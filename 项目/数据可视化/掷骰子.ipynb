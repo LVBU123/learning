{
 "cells": [
  {
   "cell_type": "code",
   "execution_count": 3,
   "metadata": {},
   "outputs": [
    {
     "name": "stdout",
     "output_type": "stream",
     "text": [
      "[173, 161, 171, 178, 164, 153]\n"
     ]
    }
   ],
   "source": [
    "from random import randint\n",
    "import pygal\n",
    "\n",
    "class Die():\n",
    "    def __init__(self,num_sides=6):\n",
    "        self.num_sides = num_sides\n",
    "    def roll(self):\n",
    "        return randint(1,self.num_sides)\n",
    "\n",
    "die = Die()\n",
    "results = [die.roll() for roll_num in range(1000)]\n",
    "\n",
    "frequencies = [results.count(number) for number in range(1,die.num_sides+1)]\n",
    "\n",
    "print(frequencies)\n",
    " \n",
    "hist = pygal.Bar()\n",
    "hist.title = 'Results of rolling one D6 1000 times.'\n",
    "hist.x_labels = [str(x) for x in range(1,die.num_sides+1)]\n",
    "hist.x_title = 'Number'\n",
    "hist.y_title = 'Frequency of Result'\n",
    "hist.add('D6',frequencies)\n",
    "hist.render_to_file('die_visual.svg')"
   ]
  },
  {
   "cell_type": "code",
   "execution_count": null,
   "metadata": {
    "collapsed": true
   },
   "outputs": [],
   "source": []
  },
  {
   "cell_type": "code",
   "execution_count": null,
   "metadata": {
    "collapsed": true
   },
   "outputs": [],
   "source": []
  },
  {
   "cell_type": "code",
   "execution_count": null,
   "metadata": {
    "collapsed": true
   },
   "outputs": [],
   "source": []
  },
  {
   "cell_type": "code",
   "execution_count": null,
   "metadata": {
    "collapsed": true
   },
   "outputs": [],
   "source": []
  },
  {
   "cell_type": "code",
   "execution_count": 3,
   "metadata": {},
   "outputs": [
    {
     "name": "stdout",
     "output_type": "stream",
     "text": [
      "[41, 40, 89, 118, 137, 152, 151, 102, 88, 58, 24]\n"
     ]
    }
   ],
   "source": [
    "from random import randint\n",
    "import pygal\n",
    "\n",
    "class Die():\n",
    "    def __init__(self,num_sides=6):\n",
    "        self.num_sides = num_sides\n",
    "    def roll(self):\n",
    "        return randint(1,self.num_sides)\n",
    "\n",
    "die_1 = Die()\n",
    "die_2 = Die()\n",
    "results = [die_1.roll() + die_2.roll() for roll_num in range(1000)]\n",
    "\n",
    "max_result = die_1.num_sides + die_2.num_sides\n",
    "frequencies = [results.count(number) for number in range(2,max_result+1)]\n",
    "\n",
    "print(frequencies)\n",
    " \n",
    "hist = pygal.Bar()\n",
    "hist.title = 'Results of rolling two D6 1000 times.'\n",
    "hist.x_labels = [str(x) for x in range(2,max_result + 1)]\n",
    "hist.x_title = 'Number'\n",
    "hist.y_title = 'Frequency of Result'\n",
    "hist.add('D6+D6',frequencies)\n",
    "hist.render_to_file('die_visual.svg')"
   ]
  },
  {
   "cell_type": "code",
   "execution_count": null,
   "metadata": {
    "collapsed": true
   },
   "outputs": [],
   "source": []
  },
  {
   "cell_type": "code",
   "execution_count": null,
   "metadata": {
    "collapsed": true
   },
   "outputs": [],
   "source": []
  },
  {
   "cell_type": "code",
   "execution_count": null,
   "metadata": {
    "collapsed": true
   },
   "outputs": [],
   "source": []
  },
  {
   "cell_type": "code",
   "execution_count": null,
   "metadata": {
    "collapsed": true
   },
   "outputs": [],
   "source": []
  },
  {
   "cell_type": "code",
   "execution_count": null,
   "metadata": {
    "collapsed": true
   },
   "outputs": [],
   "source": []
  },
  {
   "cell_type": "code",
   "execution_count": null,
   "metadata": {
    "collapsed": true
   },
   "outputs": [],
   "source": []
  },
  {
   "cell_type": "code",
   "execution_count": null,
   "metadata": {
    "collapsed": true
   },
   "outputs": [],
   "source": []
  },
  {
   "cell_type": "code",
   "execution_count": null,
   "metadata": {
    "collapsed": true
   },
   "outputs": [],
   "source": []
  },
  {
   "cell_type": "code",
   "execution_count": null,
   "metadata": {
    "collapsed": true
   },
   "outputs": [],
   "source": []
  },
  {
   "cell_type": "code",
   "execution_count": null,
   "metadata": {
    "collapsed": true
   },
   "outputs": [],
   "source": []
  },
  {
   "cell_type": "code",
   "execution_count": null,
   "metadata": {
    "collapsed": true
   },
   "outputs": [],
   "source": []
  },
  {
   "cell_type": "code",
   "execution_count": null,
   "metadata": {
    "collapsed": true
   },
   "outputs": [],
   "source": []
  },
  {
   "cell_type": "code",
   "execution_count": null,
   "metadata": {
    "collapsed": true
   },
   "outputs": [],
   "source": []
  },
  {
   "cell_type": "code",
   "execution_count": null,
   "metadata": {
    "collapsed": true
   },
   "outputs": [],
   "source": []
  },
  {
   "cell_type": "code",
   "execution_count": null,
   "metadata": {
    "collapsed": true
   },
   "outputs": [],
   "source": []
  },
  {
   "cell_type": "code",
   "execution_count": null,
   "metadata": {
    "collapsed": true
   },
   "outputs": [],
   "source": []
  },
  {
   "cell_type": "code",
   "execution_count": null,
   "metadata": {
    "collapsed": true
   },
   "outputs": [],
   "source": []
  },
  {
   "cell_type": "code",
   "execution_count": null,
   "metadata": {
    "collapsed": true
   },
   "outputs": [],
   "source": []
  },
  {
   "cell_type": "code",
   "execution_count": null,
   "metadata": {
    "collapsed": true
   },
   "outputs": [],
   "source": []
  },
  {
   "cell_type": "code",
   "execution_count": null,
   "metadata": {
    "collapsed": true
   },
   "outputs": [],
   "source": []
  }
 ],
 "metadata": {
  "kernelspec": {
   "display_name": "Python 3",
   "language": "python",
   "name": "python3"
  },
  "language_info": {
   "codemirror_mode": {
    "name": "ipython",
    "version": 3
   },
   "file_extension": ".py",
   "mimetype": "text/x-python",
   "name": "python",
   "nbconvert_exporter": "python",
   "pygments_lexer": "ipython3",
   "version": "3.6.3"
  }
 },
 "nbformat": 4,
 "nbformat_minor": 2
}
