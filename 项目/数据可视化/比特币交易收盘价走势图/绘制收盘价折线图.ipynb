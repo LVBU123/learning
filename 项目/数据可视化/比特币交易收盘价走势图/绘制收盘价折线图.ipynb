{
 "cells": [
  {
   "cell_type": "code",
   "execution_count": 26,
   "metadata": {},
   "outputs": [],
   "source": [
    "import json\n",
    "\n",
    "filename = 'btc_close_2017.json'\n",
    "with open(filename) as f:\n",
    "    btc_data = json.load(f)\n",
    "dates = []\n",
    "months = []\n",
    "weeks = []\n",
    "weekdays = []\n",
    "close = []\n",
    "for btc_dict in btc_data:\n",
    "    dates.append(btc_dict['date'])\n",
    "    months.append(int(btc_dict['month']))\n",
    "    weeks.append(int(btc_dict['week']))\n",
    "    weekdays.append(btc_dict['weekday'])\n",
    "    close.append(int(float(btc_dict['close'])))\n",
    "\n",
    "import pygal\n",
    "line_chart = pygal.Line(x_label_rotation = 20,show_mirror_x_labels = False)\n",
    "line_chart.title = '收盘价（¥）'\n",
    "line_chart.x_labels = dates\n",
    "N = 20\n",
    "line_chart.x_labels_major = dates[::N]\n",
    "line_chart.add('收盘价',close)\n",
    "line_chart.render_to_file('收盘价折线图（¥）.svg')\n",
    "\n",
    "\n",
    "    "
   ]
  },
  {
   "cell_type": "code",
   "execution_count": null,
   "metadata": {
    "collapsed": true
   },
   "outputs": [],
   "source": []
  },
  {
   "cell_type": "code",
   "execution_count": null,
   "metadata": {
    "collapsed": true
   },
   "outputs": [],
   "source": []
  },
  {
   "cell_type": "code",
   "execution_count": null,
   "metadata": {
    "collapsed": true
   },
   "outputs": [],
   "source": []
  },
  {
   "cell_type": "code",
   "execution_count": null,
   "metadata": {
    "collapsed": true
   },
   "outputs": [],
   "source": []
  },
  {
   "cell_type": "code",
   "execution_count": null,
   "metadata": {
    "collapsed": true
   },
   "outputs": [],
   "source": []
  },
  {
   "cell_type": "code",
   "execution_count": 27,
   "metadata": {},
   "outputs": [],
   "source": [
    "import json\n",
    "\n",
    "filename = 'btc_close_2017.json'\n",
    "with open(filename) as f:\n",
    "    btc_data = json.load(f)\n",
    "dates = []\n",
    "months = []\n",
    "weeks = []\n",
    "weekdays = []\n",
    "close = []\n",
    "for btc_dict in btc_data:\n",
    "    dates.append(btc_dict['date'])\n",
    "    months.append(int(btc_dict['month']))\n",
    "    weeks.append(int(btc_dict['week']))\n",
    "    weekdays.append(btc_dict['weekday'])\n",
    "    close.append(int(float(btc_dict['close'])))\n",
    "\n",
    "import pygal\n",
    "import math\n",
    "line_chart = pygal.Line(x_label_rotation = 20,show_mirror_x_labels = False)\n",
    "line_chart.title = '收盘价对数变换（¥）'\n",
    "line_chart.x_labels = dates\n",
    "N = 20\n",
    "line_chart.x_labels_major = dates[::N]\n",
    "close_log = [math.log10(_) for _ in close]\n",
    "line_chart.add('log收盘价',close_log)\n",
    "line_chart.render_to_file('收盘价对数变换折线图（¥）.svg')\n",
    "\n"
   ]
  },
  {
   "cell_type": "code",
   "execution_count": null,
   "metadata": {
    "collapsed": true
   },
   "outputs": [],
   "source": []
  },
  {
   "cell_type": "code",
   "execution_count": null,
   "metadata": {
    "collapsed": true
   },
   "outputs": [],
   "source": []
  },
  {
   "cell_type": "code",
   "execution_count": null,
   "metadata": {
    "collapsed": true
   },
   "outputs": [],
   "source": []
  },
  {
   "cell_type": "code",
   "execution_count": null,
   "metadata": {
    "collapsed": true
   },
   "outputs": [],
   "source": []
  },
  {
   "cell_type": "code",
   "execution_count": null,
   "metadata": {
    "collapsed": true
   },
   "outputs": [],
   "source": []
  },
  {
   "cell_type": "code",
   "execution_count": null,
   "metadata": {
    "collapsed": true
   },
   "outputs": [],
   "source": []
  },
  {
   "cell_type": "code",
   "execution_count": 5,
   "metadata": {},
   "outputs": [
    {
     "ename": "ModuleNotFoundError",
     "evalue": "No module named 'cairosvg'",
     "output_type": "error",
     "traceback": [
      "\u001b[0;31m-----------------------------------------------------------------------\u001b[0m",
      "\u001b[0;31mModuleNotFoundError\u001b[0m                   Traceback (most recent call last)",
      "\u001b[0;32m/var/sw/anaconda3/lib/python3.6/site-packages/IPython/core/formatters.py\u001b[0m in \u001b[0;36m__call__\u001b[0;34m(self, obj)\u001b[0m\n\u001b[1;32m    334\u001b[0m             \u001b[0mmethod\u001b[0m \u001b[0;34m=\u001b[0m \u001b[0mget_real_method\u001b[0m\u001b[0;34m(\u001b[0m\u001b[0mobj\u001b[0m\u001b[0;34m,\u001b[0m \u001b[0mself\u001b[0m\u001b[0;34m.\u001b[0m\u001b[0mprint_method\u001b[0m\u001b[0;34m)\u001b[0m\u001b[0;34m\u001b[0m\u001b[0m\n\u001b[1;32m    335\u001b[0m             \u001b[0;32mif\u001b[0m \u001b[0mmethod\u001b[0m \u001b[0;32mis\u001b[0m \u001b[0;32mnot\u001b[0m \u001b[0;32mNone\u001b[0m\u001b[0;34m:\u001b[0m\u001b[0;34m\u001b[0m\u001b[0m\n\u001b[0;32m--> 336\u001b[0;31m                 \u001b[0;32mreturn\u001b[0m \u001b[0mmethod\u001b[0m\u001b[0;34m(\u001b[0m\u001b[0;34m)\u001b[0m\u001b[0;34m\u001b[0m\u001b[0m\n\u001b[0m\u001b[1;32m    337\u001b[0m             \u001b[0;32mreturn\u001b[0m \u001b[0;32mNone\u001b[0m\u001b[0;34m\u001b[0m\u001b[0m\n\u001b[1;32m    338\u001b[0m         \u001b[0;32melse\u001b[0m\u001b[0;34m:\u001b[0m\u001b[0;34m\u001b[0m\u001b[0m\n",
      "\u001b[0;32m/var/sw/anaconda3/lib/python3.6/site-packages/pygal/graph/base.py\u001b[0m in \u001b[0;36m_repr_png_\u001b[0;34m(self)\u001b[0m\n\u001b[1;32m    232\u001b[0m     \u001b[0;32mdef\u001b[0m \u001b[0m_repr_png_\u001b[0m\u001b[0;34m(\u001b[0m\u001b[0mself\u001b[0m\u001b[0;34m)\u001b[0m\u001b[0;34m:\u001b[0m\u001b[0;34m\u001b[0m\u001b[0m\n\u001b[1;32m    233\u001b[0m         \u001b[0;34m\"\"\"Display png in IPython notebook\"\"\"\u001b[0m\u001b[0;34m\u001b[0m\u001b[0m\n\u001b[0;32m--> 234\u001b[0;31m         \u001b[0;32mreturn\u001b[0m \u001b[0mself\u001b[0m\u001b[0;34m.\u001b[0m\u001b[0mrender_to_png\u001b[0m\u001b[0;34m(\u001b[0m\u001b[0;34m)\u001b[0m\u001b[0;34m\u001b[0m\u001b[0m\n\u001b[0m",
      "\u001b[0;32m/var/sw/anaconda3/lib/python3.6/site-packages/pygal/graph/public.py\u001b[0m in \u001b[0;36mrender_to_png\u001b[0;34m(self, filename, dpi, **kwargs)\u001b[0m\n\u001b[1;32m    116\u001b[0m     \u001b[0;32mdef\u001b[0m \u001b[0mrender_to_png\u001b[0m\u001b[0;34m(\u001b[0m\u001b[0mself\u001b[0m\u001b[0;34m,\u001b[0m \u001b[0mfilename\u001b[0m\u001b[0;34m=\u001b[0m\u001b[0;32mNone\u001b[0m\u001b[0;34m,\u001b[0m \u001b[0mdpi\u001b[0m\u001b[0;34m=\u001b[0m\u001b[0;36m72\u001b[0m\u001b[0;34m,\u001b[0m \u001b[0;34m**\u001b[0m\u001b[0mkwargs\u001b[0m\u001b[0;34m)\u001b[0m\u001b[0;34m:\u001b[0m\u001b[0;34m\u001b[0m\u001b[0m\n\u001b[1;32m    117\u001b[0m         \u001b[0;34m\"\"\"Render the graph, convert it to png and write it to filename\"\"\"\u001b[0m\u001b[0;34m\u001b[0m\u001b[0m\n\u001b[0;32m--> 118\u001b[0;31m         \u001b[0;32mimport\u001b[0m \u001b[0mcairosvg\u001b[0m\u001b[0;34m\u001b[0m\u001b[0m\n\u001b[0m\u001b[1;32m    119\u001b[0m         return cairosvg.svg2png(\n\u001b[1;32m    120\u001b[0m             bytestring=self.render(**kwargs), write_to=filename, dpi=dpi)\n",
      "\u001b[0;31mModuleNotFoundError\u001b[0m: No module named 'cairosvg'"
     ]
    },
    {
     "data": {
      "image/svg+xml": [
       "<svg xmlns:xlink=\"http://www.w3.org/1999/xlink\" xmlns=\"http://www.w3.org/2000/svg\" id=\"chart-de1a7e61-0321-44d0-941c-a33279f1903e\" class=\"pygal-chart\" viewBox=\"0 0 800 600\"><!--Generated with pygal 2.4.0 (lxml) ©Kozea 2012-2016 on 2018-08-18--><!--http://pygal.org--><!--http://github.com/Kozea/pygal--><defs><style type=\"text/css\">#chart-de1a7e61-0321-44d0-941c-a33279f1903e{-webkit-user-select:none;-webkit-font-smoothing:antialiased;font-family:Consolas,\"Liberation Mono\",Menlo,Courier,monospace}#chart-de1a7e61-0321-44d0-941c-a33279f1903e .title{font-family:Consolas,\"Liberation Mono\",Menlo,Courier,monospace;font-size:16px}#chart-de1a7e61-0321-44d0-941c-a33279f1903e .legends .legend text{font-family:Consolas,\"Liberation Mono\",Menlo,Courier,monospace;font-size:14px}#chart-de1a7e61-0321-44d0-941c-a33279f1903e .axis text{font-family:Consolas,\"Liberation Mono\",Menlo,Courier,monospace;font-size:10px}#chart-de1a7e61-0321-44d0-941c-a33279f1903e .axis text.major{font-family:Consolas,\"Liberation Mono\",Menlo,Courier,monospace;font-size:10px}#chart-de1a7e61-0321-44d0-941c-a33279f1903e .text-overlay text.value{font-family:Consolas,\"Liberation Mono\",Menlo,Courier,monospace;font-size:16px}#chart-de1a7e61-0321-44d0-941c-a33279f1903e .text-overlay text.label{font-family:Consolas,\"Liberation Mono\",Menlo,Courier,monospace;font-size:10px}#chart-de1a7e61-0321-44d0-941c-a33279f1903e .tooltip{font-family:Consolas,\"Liberation Mono\",Menlo,Courier,monospace;font-size:14px}#chart-de1a7e61-0321-44d0-941c-a33279f1903e text.no_data{font-family:Consolas,\"Liberation Mono\",Menlo,Courier,monospace;font-size:64px}\n",
       "#chart-de1a7e61-0321-44d0-941c-a33279f1903e{background-color:rgba(249,249,249,1)}#chart-de1a7e61-0321-44d0-941c-a33279f1903e path,#chart-de1a7e61-0321-44d0-941c-a33279f1903e line,#chart-de1a7e61-0321-44d0-941c-a33279f1903e rect,#chart-de1a7e61-0321-44d0-941c-a33279f1903e circle{-webkit-transition:150ms;-moz-transition:150ms;transition:150ms}#chart-de1a7e61-0321-44d0-941c-a33279f1903e .graph &gt; .background{fill:rgba(249,249,249,1)}#chart-de1a7e61-0321-44d0-941c-a33279f1903e .plot &gt; .background{fill:rgba(255,255,255,1)}#chart-de1a7e61-0321-44d0-941c-a33279f1903e .graph{fill:rgba(0,0,0,.87)}#chart-de1a7e61-0321-44d0-941c-a33279f1903e text.no_data{fill:rgba(0,0,0,1)}#chart-de1a7e61-0321-44d0-941c-a33279f1903e .title{fill:rgba(0,0,0,1)}#chart-de1a7e61-0321-44d0-941c-a33279f1903e .legends .legend text{fill:rgba(0,0,0,.87)}#chart-de1a7e61-0321-44d0-941c-a33279f1903e .legends .legend:hover text{fill:rgba(0,0,0,1)}#chart-de1a7e61-0321-44d0-941c-a33279f1903e .axis .line{stroke:rgba(0,0,0,1)}#chart-de1a7e61-0321-44d0-941c-a33279f1903e .axis .guide.line{stroke:rgba(0,0,0,.54)}#chart-de1a7e61-0321-44d0-941c-a33279f1903e .axis .major.line{stroke:rgba(0,0,0,.87)}#chart-de1a7e61-0321-44d0-941c-a33279f1903e .axis text.major{fill:rgba(0,0,0,1)}#chart-de1a7e61-0321-44d0-941c-a33279f1903e .axis.y .guides:hover .guide.line,#chart-de1a7e61-0321-44d0-941c-a33279f1903e .line-graph .axis.x .guides:hover .guide.line,#chart-de1a7e61-0321-44d0-941c-a33279f1903e .stackedline-graph .axis.x .guides:hover .guide.line,#chart-de1a7e61-0321-44d0-941c-a33279f1903e .xy-graph .axis.x .guides:hover .guide.line{stroke:rgba(0,0,0,1)}#chart-de1a7e61-0321-44d0-941c-a33279f1903e .axis .guides:hover text{fill:rgba(0,0,0,1)}#chart-de1a7e61-0321-44d0-941c-a33279f1903e .reactive{fill-opacity:.7;stroke-opacity:.8}#chart-de1a7e61-0321-44d0-941c-a33279f1903e .ci{stroke:rgba(0,0,0,.87)}#chart-de1a7e61-0321-44d0-941c-a33279f1903e .reactive.active,#chart-de1a7e61-0321-44d0-941c-a33279f1903e .active .reactive{fill-opacity:.8;stroke-opacity:.9;stroke-width:4}#chart-de1a7e61-0321-44d0-941c-a33279f1903e .ci .reactive.active{stroke-width:1.5}#chart-de1a7e61-0321-44d0-941c-a33279f1903e .series text{fill:rgba(0,0,0,1)}#chart-de1a7e61-0321-44d0-941c-a33279f1903e .tooltip rect{fill:rgba(255,255,255,1);stroke:rgba(0,0,0,1);-webkit-transition:opacity 150ms;-moz-transition:opacity 150ms;transition:opacity 150ms}#chart-de1a7e61-0321-44d0-941c-a33279f1903e .tooltip .label{fill:rgba(0,0,0,.87)}#chart-de1a7e61-0321-44d0-941c-a33279f1903e .tooltip .label{fill:rgba(0,0,0,.87)}#chart-de1a7e61-0321-44d0-941c-a33279f1903e .tooltip .legend{font-size:.8em;fill:rgba(0,0,0,.54)}#chart-de1a7e61-0321-44d0-941c-a33279f1903e .tooltip .x_label{font-size:.6em;fill:rgba(0,0,0,1)}#chart-de1a7e61-0321-44d0-941c-a33279f1903e .tooltip .xlink{font-size:.5em;text-decoration:underline}#chart-de1a7e61-0321-44d0-941c-a33279f1903e .tooltip .value{font-size:1.5em}#chart-de1a7e61-0321-44d0-941c-a33279f1903e .bound{font-size:.5em}#chart-de1a7e61-0321-44d0-941c-a33279f1903e .max-value{font-size:.75em;fill:rgba(0,0,0,.54)}#chart-de1a7e61-0321-44d0-941c-a33279f1903e .map-element{fill:rgba(255,255,255,1);stroke:rgba(0,0,0,.54) !important}#chart-de1a7e61-0321-44d0-941c-a33279f1903e .map-element .reactive{fill-opacity:inherit;stroke-opacity:inherit}#chart-de1a7e61-0321-44d0-941c-a33279f1903e .color-0,#chart-de1a7e61-0321-44d0-941c-a33279f1903e .color-0 a:visited{stroke:#F44336;fill:#F44336}#chart-de1a7e61-0321-44d0-941c-a33279f1903e .text-overlay .color-0 text{fill:black}\n",
       "#chart-de1a7e61-0321-44d0-941c-a33279f1903e text.no_data{text-anchor:middle}#chart-de1a7e61-0321-44d0-941c-a33279f1903e .guide.line{fill:none}#chart-de1a7e61-0321-44d0-941c-a33279f1903e .centered{text-anchor:middle}#chart-de1a7e61-0321-44d0-941c-a33279f1903e .title{text-anchor:middle}#chart-de1a7e61-0321-44d0-941c-a33279f1903e .legends .legend text{fill-opacity:1}#chart-de1a7e61-0321-44d0-941c-a33279f1903e .axis.x text{text-anchor:middle}#chart-de1a7e61-0321-44d0-941c-a33279f1903e .axis.x:not(.web) text[transform]{text-anchor:start}#chart-de1a7e61-0321-44d0-941c-a33279f1903e .axis.x:not(.web) text[transform].backwards{text-anchor:end}#chart-de1a7e61-0321-44d0-941c-a33279f1903e .axis.y text{text-anchor:end}#chart-de1a7e61-0321-44d0-941c-a33279f1903e .axis.y text[transform].backwards{text-anchor:start}#chart-de1a7e61-0321-44d0-941c-a33279f1903e .axis.y2 text{text-anchor:start}#chart-de1a7e61-0321-44d0-941c-a33279f1903e .axis.y2 text[transform].backwards{text-anchor:end}#chart-de1a7e61-0321-44d0-941c-a33279f1903e .axis .guide.line{stroke-dasharray:4,4}#chart-de1a7e61-0321-44d0-941c-a33279f1903e .axis .major.guide.line{stroke-dasharray:6,6}#chart-de1a7e61-0321-44d0-941c-a33279f1903e .horizontal .axis.y .guide.line,#chart-de1a7e61-0321-44d0-941c-a33279f1903e .horizontal .axis.y2 .guide.line,#chart-de1a7e61-0321-44d0-941c-a33279f1903e .vertical .axis.x .guide.line{opacity:0}#chart-de1a7e61-0321-44d0-941c-a33279f1903e .horizontal .axis.always_show .guide.line,#chart-de1a7e61-0321-44d0-941c-a33279f1903e .vertical .axis.always_show .guide.line{opacity:1 !important}#chart-de1a7e61-0321-44d0-941c-a33279f1903e .axis.y .guides:hover .guide.line,#chart-de1a7e61-0321-44d0-941c-a33279f1903e .axis.y2 .guides:hover .guide.line,#chart-de1a7e61-0321-44d0-941c-a33279f1903e .axis.x .guides:hover .guide.line{opacity:1}#chart-de1a7e61-0321-44d0-941c-a33279f1903e .axis .guides:hover text{opacity:1}#chart-de1a7e61-0321-44d0-941c-a33279f1903e .nofill{fill:none}#chart-de1a7e61-0321-44d0-941c-a33279f1903e .subtle-fill{fill-opacity:.2}#chart-de1a7e61-0321-44d0-941c-a33279f1903e .dot{stroke-width:1px;fill-opacity:1}#chart-de1a7e61-0321-44d0-941c-a33279f1903e .dot.active{stroke-width:5px}#chart-de1a7e61-0321-44d0-941c-a33279f1903e .dot.negative{fill:transparent}#chart-de1a7e61-0321-44d0-941c-a33279f1903e text,#chart-de1a7e61-0321-44d0-941c-a33279f1903e tspan{stroke:none !important}#chart-de1a7e61-0321-44d0-941c-a33279f1903e .series text.active{opacity:1}#chart-de1a7e61-0321-44d0-941c-a33279f1903e .tooltip rect{fill-opacity:.95;stroke-width:.5}#chart-de1a7e61-0321-44d0-941c-a33279f1903e .tooltip text{fill-opacity:1}#chart-de1a7e61-0321-44d0-941c-a33279f1903e .showable{visibility:hidden}#chart-de1a7e61-0321-44d0-941c-a33279f1903e .showable.shown{visibility:visible}#chart-de1a7e61-0321-44d0-941c-a33279f1903e .gauge-background{fill:rgba(229,229,229,1);stroke:none}#chart-de1a7e61-0321-44d0-941c-a33279f1903e .bg-lines{stroke:rgba(249,249,249,1);stroke-width:2px}</style><script type=\"text/javascript\">window.pygal = window.pygal || {};window.pygal.config = window.pygal.config || {};window.pygal.config['de1a7e61-0321-44d0-941c-a33279f1903e'] = {\"allow_interruptions\": false, \"box_mode\": \"extremes\", \"classes\": [\"pygal-chart\"], \"css\": [\"file://style.css\", \"file://graph.css\"], \"defs\": [], \"disable_xml_declaration\": true, \"dots_size\": 2.5, \"dynamic_print_values\": false, \"explicit_size\": false, \"fill\": false, \"force_uri_protocol\": \"https\", \"formatter\": null, \"half_pie\": false, \"height\": 600, \"include_x_axis\": false, \"inner_radius\": 0, \"interpolate\": null, \"interpolation_parameters\": {}, \"interpolation_precision\": 250, \"inverse_y_axis\": false, \"js\": [\"//kozea.github.io/pygal.js/2.0.x/pygal-tooltips.min.js\"], \"legend_at_bottom\": false, \"legend_at_bottom_columns\": null, \"legend_box_size\": 12, \"logarithmic\": false, \"margin\": 20, \"margin_bottom\": null, \"margin_left\": null, \"margin_right\": null, \"margin_top\": null, \"max_scale\": 16, \"min_scale\": 4, \"missing_value_fill_truncation\": \"x\", \"no_data_text\": \"No data\", \"no_prefix\": false, \"order_min\": null, \"pretty_print\": false, \"print_labels\": false, \"print_values\": false, \"print_values_position\": \"center\", \"print_zeroes\": true, \"range\": null, \"rounded_bars\": null, \"secondary_range\": null, \"show_dots\": true, \"show_legend\": true, \"show_minor_x_labels\": true, \"show_minor_y_labels\": true, \"show_only_major_dots\": false, \"show_x_guides\": false, \"show_x_labels\": true, \"show_y_guides\": true, \"show_y_labels\": true, \"spacing\": 10, \"stack_from_top\": false, \"strict\": false, \"stroke\": true, \"stroke_style\": null, \"style\": {\"background\": \"rgba(249, 249, 249, 1)\", \"ci_colors\": [], \"colors\": [\"#F44336\", \"#3F51B5\", \"#009688\", \"#FFC107\", \"#FF5722\", \"#9C27B0\", \"#03A9F4\", \"#8BC34A\", \"#FF9800\", \"#E91E63\", \"#2196F3\", \"#4CAF50\", \"#FFEB3B\", \"#673AB7\", \"#00BCD4\", \"#CDDC39\", \"#9E9E9E\", \"#607D8B\"], \"font_family\": \"Consolas, \\\"Liberation Mono\\\", Menlo, Courier, monospace\", \"foreground\": \"rgba(0, 0, 0, .87)\", \"foreground_strong\": \"rgba(0, 0, 0, 1)\", \"foreground_subtle\": \"rgba(0, 0, 0, .54)\", \"guide_stroke_dasharray\": \"4,4\", \"label_font_family\": \"Consolas, \\\"Liberation Mono\\\", Menlo, Courier, monospace\", \"label_font_size\": 10, \"legend_font_family\": \"Consolas, \\\"Liberation Mono\\\", Menlo, Courier, monospace\", \"legend_font_size\": 14, \"major_guide_stroke_dasharray\": \"6,6\", \"major_label_font_family\": \"Consolas, \\\"Liberation Mono\\\", Menlo, Courier, monospace\", \"major_label_font_size\": 10, \"no_data_font_family\": \"Consolas, \\\"Liberation Mono\\\", Menlo, Courier, monospace\", \"no_data_font_size\": 64, \"opacity\": \".7\", \"opacity_hover\": \".8\", \"plot_background\": \"rgba(255, 255, 255, 1)\", \"stroke_opacity\": \".8\", \"stroke_opacity_hover\": \".9\", \"title_font_family\": \"Consolas, \\\"Liberation Mono\\\", Menlo, Courier, monospace\", \"title_font_size\": 16, \"tooltip_font_family\": \"Consolas, \\\"Liberation Mono\\\", Menlo, Courier, monospace\", \"tooltip_font_size\": 14, \"transition\": \"150ms\", \"value_background\": \"rgba(229, 229, 229, 1)\", \"value_colors\": [], \"value_font_family\": \"Consolas, \\\"Liberation Mono\\\", Menlo, Courier, monospace\", \"value_font_size\": 16, \"value_label_font_family\": \"Consolas, \\\"Liberation Mono\\\", Menlo, Courier, monospace\", \"value_label_font_size\": 10}, \"title\": \"\\u6536\\u76d8\\u4ef7\\u5468\\u65e5\\u5747\\u503c\\uff08\\u00a5\\uff09\", \"tooltip_border_radius\": 0, \"tooltip_fancy_mode\": true, \"truncate_label\": null, \"truncate_legend\": null, \"width\": 800, \"x_label_rotation\": 0, \"x_labels\": [1, 2, 3, 4, 5, 6, 7, 8, 9, 10, 11, 12, 13, 14, 15, 16, 17, 18, 19, 20, 21, 22, 23, 24, 25, 26, 27, 28, 29, 30, 31, 32, 33, 34, 35, 36, 37, 38, 39, 40, 41, 42, 43, 44, 45, 46, 47, 48, 49], \"x_labels_major\": null, \"x_labels_major_count\": null, \"x_labels_major_every\": null, \"x_title\": null, \"xrange\": null, \"y_label_rotation\": 0, \"y_labels\": null, \"y_labels_major\": null, \"y_labels_major_count\": null, \"y_labels_major_every\": null, \"y_title\": null, \"zero\": 0, \"legends\": [\"\\u5468\\u65e5\\u5747\\u503c\"]}</script><script type=\"text/javascript\" xlink:href=\"https://kozea.github.io/pygal.js/2.0.x/pygal-tooltips.min.js\"/></defs><title>收盘价周日均值（¥）</title><g class=\"graph line-graph vertical\"><rect class=\"background\" height=\"600\" width=\"800\" x=\"0\" y=\"0\"/><g class=\"plot\" transform=\"translate(115, 46)\"><rect class=\"background\" height=\"514\" width=\"664.4\" x=\"0\" y=\"0\"/><g class=\"axis y always_show\"><path class=\"line\" d=\"M0.000000 514.000000 h664.400000\"/><g class=\"guides\"><path class=\"guide line\" d=\"M0.000000 480.596213 h664.400000\"/><text class=\"\" x=\"-5\" y=\"484.09621326054923\">10000</text><title>10000</title></g><g class=\"guides\"><path class=\"guide line\" d=\"M0.000000 424.839042 h664.400000\"/><text class=\"\" x=\"-5\" y=\"428.3390420329108\">20000</text><title>20000</title></g><g class=\"guides\"><path class=\"guide line\" d=\"M0.000000 369.081871 h664.400000\"/><text class=\"\" x=\"-5\" y=\"372.5818708052724\">30000</text><title>30000</title></g><g class=\"guides\"><path class=\"guide line\" d=\"M0.000000 313.324700 h664.400000\"/><text class=\"\" x=\"-5\" y=\"316.824699577634\">40000</text><title>40000</title></g><g class=\"guides\"><path class=\"major guide line\" d=\"M0.000000 257.567528 h664.400000\"/><text class=\"major\" x=\"-5\" y=\"261.06752834999565\">50000</text><title>50000</title></g><g class=\"guides\"><path class=\"guide line\" d=\"M0.000000 201.810357 h664.400000\"/><text class=\"\" x=\"-5\" y=\"205.31035712235723\">60000</text><title>60000</title></g><g class=\"guides\"><path class=\"guide line\" d=\"M0.000000 146.053186 h664.400000\"/><text class=\"\" x=\"-5\" y=\"149.5531858947188\">70000</text><title>70000</title></g><g class=\"guides\"><path class=\"guide line\" d=\"M0.000000 90.296015 h664.400000\"/><text class=\"\" x=\"-5\" y=\"93.79601466708044\">80000</text><title>80000</title></g><g class=\"guides\"><path class=\"guide line\" d=\"M0.000000 34.538843 h664.400000\"/><text class=\"\" x=\"-5\" y=\"38.03884343944202\">90000</text><title>90000</title></g></g><g class=\"axis x\"><g class=\"guides\"><path class=\"line\" d=\"M12.776923 0.000000 v514.000000\"/><text class=\"\" x=\"12.776923076923076\" y=\"529.0\">1</text></g><g class=\"guides\"><path class=\"guide line\" d=\"M26.086218 0.000000 v514.000000\"/><text class=\"\" x=\"26.086217948717948\" y=\"529.0\">2</text></g><g class=\"guides\"><path class=\"guide line\" d=\"M39.395513 0.000000 v514.000000\"/><text class=\"\" x=\"39.39551282051281\" y=\"529.0\">3</text></g><g class=\"guides\"><path class=\"guide line\" d=\"M52.704808 0.000000 v514.000000\"/><text class=\"\" x=\"52.704807692307696\" y=\"529.0\">4</text></g><g class=\"guides\"><path class=\"guide line\" d=\"M66.014103 0.000000 v514.000000\"/><text class=\"\" x=\"66.01410256410256\" y=\"529.0\">5</text></g><g class=\"guides\"><path class=\"guide line\" d=\"M79.323397 0.000000 v514.000000\"/><text class=\"\" x=\"79.32339743589743\" y=\"529.0\">6</text></g><g class=\"guides\"><path class=\"guide line\" d=\"M92.632692 0.000000 v514.000000\"/><text class=\"\" x=\"92.6326923076923\" y=\"529.0\">7</text></g><g class=\"guides\"><path class=\"guide line\" d=\"M105.941987 0.000000 v514.000000\"/><text class=\"\" x=\"105.94198717948717\" y=\"529.0\">8</text></g><g class=\"guides\"><path class=\"guide line\" d=\"M119.251282 0.000000 v514.000000\"/><text class=\"\" x=\"119.25128205128203\" y=\"529.0\">9</text></g><g class=\"guides\"><path class=\"guide line\" d=\"M132.560577 0.000000 v514.000000\"/><text class=\"\" x=\"132.56057692307692\" y=\"529.0\">10</text></g><g class=\"guides\"><path class=\"guide line\" d=\"M145.869872 0.000000 v514.000000\"/><text class=\"\" x=\"145.86987179487178\" y=\"529.0\">11</text></g><g class=\"guides\"><path class=\"guide line\" d=\"M159.179167 0.000000 v514.000000\"/><text class=\"\" x=\"159.17916666666665\" y=\"529.0\">12</text></g><g class=\"guides\"><path class=\"guide line\" d=\"M172.488462 0.000000 v514.000000\"/><text class=\"\" x=\"172.48846153846154\" y=\"529.0\">13</text></g><g class=\"guides\"><path class=\"guide line\" d=\"M185.797756 0.000000 v514.000000\"/><text class=\"\" x=\"185.7977564102564\" y=\"529.0\">14</text></g><g class=\"guides\"><path class=\"guide line\" d=\"M199.107051 0.000000 v514.000000\"/><text class=\"\" x=\"199.1070512820513\" y=\"529.0\">15</text></g><g class=\"guides\"><path class=\"guide line\" d=\"M212.416346 0.000000 v514.000000\"/><text class=\"\" x=\"212.41634615384615\" y=\"529.0\">16</text></g><g class=\"guides\"><path class=\"guide line\" d=\"M225.725641 0.000000 v514.000000\"/><text class=\"\" x=\"225.725641025641\" y=\"529.0\">17</text></g><g class=\"guides\"><path class=\"guide line\" d=\"M239.034936 0.000000 v514.000000\"/><text class=\"\" x=\"239.0349358974359\" y=\"529.0\">18</text></g><g class=\"guides\"><path class=\"guide line\" d=\"M252.344231 0.000000 v514.000000\"/><text class=\"\" x=\"252.34423076923076\" y=\"529.0\">19</text></g><g class=\"guides\"><path class=\"guide line\" d=\"M265.653526 0.000000 v514.000000\"/><text class=\"\" x=\"265.65352564102557\" y=\"529.0\">20</text></g><g class=\"guides\"><path class=\"guide line\" d=\"M278.962821 0.000000 v514.000000\"/><text class=\"\" x=\"278.9628205128205\" y=\"529.0\">21</text></g><g class=\"guides\"><path class=\"guide line\" d=\"M292.272115 0.000000 v514.000000\"/><text class=\"\" x=\"292.2721153846154\" y=\"529.0\">22</text></g><g class=\"guides\"><path class=\"guide line\" d=\"M305.581410 0.000000 v514.000000\"/><text class=\"\" x=\"305.58141025641027\" y=\"529.0\">23</text></g><g class=\"guides\"><path class=\"guide line\" d=\"M318.890705 0.000000 v514.000000\"/><text class=\"\" x=\"318.8907051282051\" y=\"529.0\">24</text></g><g class=\"guides\"><path class=\"guide line\" d=\"M332.200000 0.000000 v514.000000\"/><text class=\"\" x=\"332.2\" y=\"529.0\">25</text></g><g class=\"guides\"><path class=\"guide line\" d=\"M345.509295 0.000000 v514.000000\"/><text class=\"\" x=\"345.5092948717949\" y=\"529.0\">26</text></g><g class=\"guides\"><path class=\"guide line\" d=\"M358.818590 0.000000 v514.000000\"/><text class=\"\" x=\"358.81858974358965\" y=\"529.0\">27</text></g><g class=\"guides\"><path class=\"guide line\" d=\"M372.127885 0.000000 v514.000000\"/><text class=\"\" x=\"372.1278846153846\" y=\"529.0\">28</text></g><g class=\"guides\"><path class=\"guide line\" d=\"M385.437179 0.000000 v514.000000\"/><text class=\"\" x=\"385.4371794871795\" y=\"529.0\">29</text></g><g class=\"guides\"><path class=\"guide line\" d=\"M398.746474 0.000000 v514.000000\"/><text class=\"\" x=\"398.74647435897435\" y=\"529.0\">30</text></g><g class=\"guides\"><path class=\"guide line\" d=\"M412.055769 0.000000 v514.000000\"/><text class=\"\" x=\"412.0557692307692\" y=\"529.0\">31</text></g><g class=\"guides\"><path class=\"guide line\" d=\"M425.365064 0.000000 v514.000000\"/><text class=\"\" x=\"425.36506410256413\" y=\"529.0\">32</text></g><g class=\"guides\"><path class=\"guide line\" d=\"M438.674359 0.000000 v514.000000\"/><text class=\"\" x=\"438.67435897435894\" y=\"529.0\">33</text></g><g class=\"guides\"><path class=\"guide line\" d=\"M451.983654 0.000000 v514.000000\"/><text class=\"\" x=\"451.9836538461538\" y=\"529.0\">34</text></g><g class=\"guides\"><path class=\"guide line\" d=\"M465.292949 0.000000 v514.000000\"/><text class=\"\" x=\"465.2929487179487\" y=\"529.0\">35</text></g><g class=\"guides\"><path class=\"guide line\" d=\"M478.602244 0.000000 v514.000000\"/><text class=\"\" x=\"478.6022435897436\" y=\"529.0\">36</text></g><g class=\"guides\"><path class=\"guide line\" d=\"M491.911538 0.000000 v514.000000\"/><text class=\"\" x=\"491.91153846153844\" y=\"529.0\">37</text></g><g class=\"guides\"><path class=\"guide line\" d=\"M505.220833 0.000000 v514.000000\"/><text class=\"\" x=\"505.2208333333333\" y=\"529.0\">38</text></g><g class=\"guides\"><path class=\"guide line\" d=\"M518.530128 0.000000 v514.000000\"/><text class=\"\" x=\"518.5301282051281\" y=\"529.0\">39</text></g><g class=\"guides\"><path class=\"guide line\" d=\"M531.839423 0.000000 v514.000000\"/><text class=\"\" x=\"531.839423076923\" y=\"529.0\">40</text></g><g class=\"guides\"><path class=\"guide line\" d=\"M545.148718 0.000000 v514.000000\"/><text class=\"\" x=\"545.148717948718\" y=\"529.0\">41</text></g><g class=\"guides\"><path class=\"guide line\" d=\"M558.458013 0.000000 v514.000000\"/><text class=\"\" x=\"558.4580128205127\" y=\"529.0\">42</text></g><g class=\"guides\"><path class=\"guide line\" d=\"M571.767308 0.000000 v514.000000\"/><text class=\"\" x=\"571.7673076923077\" y=\"529.0\">43</text></g><g class=\"guides\"><path class=\"guide line\" d=\"M585.076603 0.000000 v514.000000\"/><text class=\"\" x=\"585.0766025641026\" y=\"529.0\">44</text></g><g class=\"guides\"><path class=\"guide line\" d=\"M598.385897 0.000000 v514.000000\"/><text class=\"\" x=\"598.3858974358974\" y=\"529.0\">45</text></g><g class=\"guides\"><path class=\"guide line\" d=\"M611.695192 0.000000 v514.000000\"/><text class=\"\" x=\"611.6951923076923\" y=\"529.0\">46</text></g><g class=\"guides\"><path class=\"guide line\" d=\"M625.004487 0.000000 v514.000000\"/><text class=\"\" x=\"625.0044871794872\" y=\"529.0\">47</text></g><g class=\"guides\"><path class=\"guide line\" d=\"M638.313782 0.000000 v514.000000\"/><text class=\"\" x=\"638.313782051282\" y=\"529.0\">48</text></g><g class=\"guides\"><path class=\"guide line\" d=\"M651.623077 0.000000 v514.000000\"/><text class=\"\" x=\"651.6230769230768\" y=\"529.0\">49</text></g></g><g class=\"series serie-0 color-0\"><path class=\"line reactive nofill\" d=\"M12.776923 498.291150 L26.086218 504.115385 39.395513 502.128040 52.704808 501.529845 66.014103 498.296726 79.323397 497.324958 92.632692 496.903593 105.941987 492.429478 119.251282 488.568692 132.560577 490.280437 145.869872 492.453374 159.179167 497.477095 172.488462 495.602858 185.797756 491.280880 199.107051 490.343363 212.416346 489.039442 225.725641 486.257159 239.034936 478.891637 252.344231 469.720379 265.653526 464.101649 278.962821 449.733026 292.272115 444.526103 305.581410 428.402722 318.890705 438.051102 332.200000 433.915513 345.509295 440.455829 358.818590 438.438216 372.127885 451.760994 385.437179 439.284929 398.746474 434.890467 412.055769 425.968523 425.365064 401.050643 438.674359 377.869201 451.983654 377.945668 465.292949 364.934334 478.602244 376.609885 491.911538 398.314559 505.220833 397.407310 518.530128 382.099577 531.839423 373.773438 545.148718 342.499241 558.458013 322.291249 571.767308 321.027155 585.076603 281.489744 598.385897 285.518598 611.695192 263.049255 625.004487 227.000651 638.313782 155.541463 651.623077 9.884615\"/></g></g><g class=\"titles\"><text class=\"title plot_title\" x=\"400.0\" y=\"26\">收盘价周日均值（¥）</text></g><g class=\"plot overlay\" transform=\"translate(115, 46)\"><g class=\"series serie-0 color-0\"><g class=\"dots\"><circle class=\"dot reactive tooltip-trigger\" cx=\"12.776923076923076\" cy=\"498.291149815149\" r=\"2.5\"/><desc class=\"value\">6826.428571</desc><desc class=\"x top\">12.776923076923076</desc><desc class=\"y top\">498.291149815149</desc><desc class=\"x_label\">1</desc></g><g class=\"dots\"><circle class=\"dot reactive tooltip-trigger\" cx=\"26.086217948717948\" cy=\"504.11538461538464\" r=\"2.5\"/><desc class=\"value\">5781.857143</desc><desc class=\"x top\">26.086217948717948</desc><desc class=\"y top\">504.11538461538464</desc><desc class=\"x_label\">2</desc></g><g class=\"dots\"><circle class=\"dot reactive tooltip-trigger\" cx=\"39.39551282051281\" cy=\"502.12803972662806\" r=\"2.5\"/><desc class=\"value\">6138.285714</desc><desc class=\"x top\">39.39551282051281</desc><desc class=\"y top\">502.12803972662806</desc><desc class=\"x_label\">3</desc></g><g class=\"dots\"><circle class=\"dot reactive tooltip-trigger\" cx=\"52.704807692307696\" cy=\"501.52984493245725\" r=\"2.5\"/><desc class=\"value\">6245.571429</desc><desc class=\"x top\">52.704807692307696</desc><desc class=\"y top\">501.52984493245725</desc><desc class=\"x_label\">4</desc></g><g class=\"dots\"><circle class=\"dot reactive tooltip-trigger\" cx=\"66.01410256410256\" cy=\"498.2967255322718\" r=\"2.5\"/><desc class=\"value\">6825.428571</desc><desc class=\"x top\">66.01410256410256</desc><desc class=\"y top\">498.2967255322718</desc><desc class=\"x_label\">5</desc></g><g class=\"dots\"><circle class=\"dot reactive tooltip-trigger\" cx=\"79.32339743589743\" cy=\"497.3249576908758\" r=\"2.5\"/><desc class=\"value\">6999.714286</desc><desc class=\"x top\">79.32339743589743</desc><desc class=\"y top\">497.3249576908758</desc><desc class=\"x_label\">6</desc></g><g class=\"dots\"><circle class=\"dot reactive tooltip-trigger\" cx=\"92.6326923076923\" cy=\"496.90359278259837\" r=\"2.5\"/><desc class=\"value\">7075.285714</desc><desc class=\"x top\">92.6326923076923</desc><desc class=\"y top\">496.90359278259837</desc><desc class=\"x_label\">7</desc></g><g class=\"dots\"><circle class=\"dot reactive tooltip-trigger\" cx=\"105.94198717948717\" cy=\"492.42947805708917\" r=\"2.5\"/><desc class=\"value\">7877.714286</desc><desc class=\"x top\">105.94198717948717</desc><desc class=\"y top\">492.42947805708917</desc><desc class=\"x_label\">8</desc></g><g class=\"dots\"><circle class=\"dot reactive tooltip-trigger\" cx=\"119.25128205128203\" cy=\"488.56869221508396\" r=\"2.5\"/><desc class=\"value\">8570.142857</desc><desc class=\"x top\">119.25128205128203</desc><desc class=\"y top\">488.56869221508396</desc><desc class=\"x_label\">9</desc></g><g class=\"dots\"><circle class=\"dot reactive tooltip-trigger\" cx=\"132.56057692307692\" cy=\"490.28043737177245\" r=\"2.5\"/><desc class=\"value\">8263.142857</desc><desc class=\"x top\">132.56057692307692</desc><desc class=\"y top\">490.28043737177245</desc><desc class=\"x_label\">10</desc></g><g class=\"dots\"><circle class=\"dot reactive tooltip-trigger\" cx=\"145.86987179487178\" cy=\"492.4533739876153\" r=\"2.5\"/><desc class=\"value\">7873.428571</desc><desc class=\"x top\">145.86987179487178</desc><desc class=\"y top\">492.4533739876153</desc><desc class=\"x_label\">11</desc></g><g class=\"dots\"><circle class=\"dot reactive tooltip-trigger\" cx=\"159.17916666666665\" cy=\"497.4770951152255\" r=\"2.5\"/><desc class=\"value\">6972.428571</desc><desc class=\"x top\">159.17916666666665</desc><desc class=\"y top\">497.4770951152255</desc><desc class=\"x_label\">12</desc></g><g class=\"dots\"><circle class=\"dot reactive tooltip-trigger\" cx=\"172.48846153846154\" cy=\"495.6028576309593\" r=\"2.5\"/><desc class=\"value\">7308.571429</desc><desc class=\"x top\">172.48846153846154</desc><desc class=\"y top\">495.6028576309593</desc><desc class=\"x_label\">13</desc></g><g class=\"dots\"><circle class=\"dot reactive tooltip-trigger\" cx=\"185.7977564102564\" cy=\"491.2808803297998\" r=\"2.5\"/><desc class=\"value\">8083.714286</desc><desc class=\"x top\">185.7977564102564</desc><desc class=\"y top\">491.2808803297998</desc><desc class=\"x_label\">14</desc></g><g class=\"dots\"><circle class=\"dot reactive tooltip-trigger\" cx=\"199.1070512820513\" cy=\"490.3433633221579\" r=\"2.5\"/><desc class=\"value\">8251.857143</desc><desc class=\"x top\">199.1070512820513</desc><desc class=\"y top\">490.3433633221579</desc><desc class=\"x_label\">15</desc></g><g class=\"dots\"><circle class=\"dot reactive tooltip-trigger\" cx=\"212.41634615384615\" cy=\"489.03944204644876\" r=\"2.5\"/><desc class=\"value\">8485.714286</desc><desc class=\"x top\">212.41634615384615</desc><desc class=\"y top\">489.03944204644876</desc><desc class=\"x_label\">16</desc></g><g class=\"dots\"><circle class=\"dot reactive tooltip-trigger\" cx=\"225.725641025641\" cy=\"486.2571592021896\" r=\"2.5\"/><desc class=\"value\">8984.714286</desc><desc class=\"x top\">225.725641025641</desc><desc class=\"y top\">486.2571592021896</desc><desc class=\"x_label\">17</desc></g><g class=\"dots\"><circle class=\"dot reactive tooltip-trigger\" cx=\"239.0349358974359\" cy=\"478.8916368830185\" r=\"2.5\"/><desc class=\"value\">10305.71429</desc><desc class=\"x top\">239.0349358974359</desc><desc class=\"y top\">478.8916368830185</desc><desc class=\"x_label\">18</desc></g><g class=\"dots\"><circle class=\"dot reactive tooltip-trigger\" cx=\"252.34423076923076\" cy=\"469.72037874708957\" r=\"2.5\"/><desc class=\"value\">11950.57143</desc><desc class=\"x top\">252.34423076923076</desc><desc class=\"y top\">469.72037874708957</desc><desc class=\"x_label\">19</desc></g><g class=\"dots\"><circle class=\"dot reactive tooltip-trigger\" cx=\"265.65352564102557\" cy=\"464.1016489493787\" r=\"2.5\"/><desc class=\"value\">12958.28571</desc><desc class=\"x top\">265.65352564102557</desc><desc class=\"y top\">464.1016489493787</desc><desc class=\"x_label\">20</desc></g><g class=\"dots\"><circle class=\"dot reactive tooltip-trigger\" cx=\"278.9628205128205\" cy=\"449.73302592401626\" r=\"2.5\"/><desc class=\"value\">15535.28571</desc><desc class=\"x top\">278.9628205128205</desc><desc class=\"y top\">449.73302592401626</desc><desc class=\"x_label\">21</desc></g><g class=\"dots\"><circle class=\"dot reactive tooltip-trigger\" cx=\"292.2721153846154\" cy=\"444.5261026623724\" r=\"2.5\"/><desc class=\"value\">16469.14286</desc><desc class=\"x top\">292.2721153846154</desc><desc class=\"y top\">444.5261026623724</desc><desc class=\"x_label\">22</desc></g><g class=\"dots\"><circle class=\"dot reactive tooltip-trigger\" cx=\"305.58141025641027\" cy=\"428.4027218053744\" r=\"2.5\"/><desc class=\"value\">19360.85714</desc><desc class=\"x top\">305.58141025641027</desc><desc class=\"y top\">428.4027218053744</desc><desc class=\"x_label\">23</desc></g><g class=\"dots\"><circle class=\"dot reactive tooltip-trigger\" cx=\"318.8907051282051\" cy=\"438.0511020208085\" r=\"2.5\"/><desc class=\"value\">17630.42857</desc><desc class=\"x top\">318.8907051282051</desc><desc class=\"y top\">438.0511020208085</desc><desc class=\"x_label\">24</desc></g><g class=\"dots\"><circle class=\"dot reactive tooltip-trigger\" cx=\"332.2\" cy=\"433.9155129777528\" r=\"2.5\"/><desc class=\"value\">18372.14286</desc><desc class=\"x top\">332.2</desc><desc class=\"y top\">433.9155129777528</desc><desc class=\"x_label\">25</desc></g><g class=\"dots\"><circle class=\"dot reactive tooltip-trigger\" cx=\"345.5092948717949\" cy=\"440.4558291627548\" r=\"2.5\"/><desc class=\"value\">17199.14286</desc><desc class=\"x left top\">345.5092948717949</desc><desc class=\"y left top\">440.4558291627548</desc><desc class=\"x_label\">26</desc></g><g class=\"dots\"><circle class=\"dot reactive tooltip-trigger\" cx=\"358.81858974358965\" cy=\"438.4382160953318\" r=\"2.5\"/><desc class=\"value\">17561</desc><desc class=\"x left top\">358.81858974358965</desc><desc class=\"y left top\">438.4382160953318</desc><desc class=\"x_label\">27</desc></g><g class=\"dots\"><circle class=\"dot reactive tooltip-trigger\" cx=\"372.1278846153846\" cy=\"451.76099389466725\" r=\"2.5\"/><desc class=\"value\">15171.57143</desc><desc class=\"x left top\">372.1278846153846</desc><desc class=\"y left top\">451.76099389466725</desc><desc class=\"x_label\">28</desc></g><g class=\"dots\"><circle class=\"dot reactive tooltip-trigger\" cx=\"385.4371794871795\" cy=\"439.2849285669744\" r=\"2.5\"/><desc class=\"value\">17409.14286</desc><desc class=\"x left top\">385.4371794871795</desc><desc class=\"y left top\">439.2849285669744</desc><desc class=\"x_label\">29</desc></g><g class=\"dots\"><circle class=\"dot reactive tooltip-trigger\" cx=\"398.74647435897435\" cy=\"434.89046694321894\" r=\"2.5\"/><desc class=\"value\">18197.28571</desc><desc class=\"x left top\">398.74647435897435</desc><desc class=\"y left top\">434.89046694321894</desc><desc class=\"x_label\">30</desc></g><g class=\"dots\"><circle class=\"dot reactive tooltip-trigger\" cx=\"412.0557692307692\" cy=\"425.9685230157793\" r=\"2.5\"/><desc class=\"value\">19797.42857</desc><desc class=\"x left top\">412.0557692307692</desc><desc class=\"y left top\">425.9685230157793</desc><desc class=\"x_label\">31</desc></g><g class=\"dots\"><circle class=\"dot reactive tooltip-trigger\" cx=\"425.36506410256413\" cy=\"401.05064319414765\" r=\"2.5\"/><desc class=\"value\">24266.42857</desc><desc class=\"x left top\">425.36506410256413</desc><desc class=\"y left top\">401.05064319414765</desc><desc class=\"x_label\">32</desc></g><g class=\"dots\"><circle class=\"dot reactive tooltip-trigger\" cx=\"438.67435897435894\" cy=\"377.86920099074825\" r=\"2.5\"/><desc class=\"value\">28424</desc><desc class=\"x left top\">438.67435897435894</desc><desc class=\"y left top\">377.86920099074825</desc><desc class=\"x_label\">33</desc></g><g class=\"dots\"><circle class=\"dot reactive tooltip-trigger\" cx=\"451.9836538461538\" cy=\"377.94566796843185\" r=\"2.5\"/><desc class=\"value\">28410.28571</desc><desc class=\"x left top\">451.9836538461538</desc><desc class=\"y left top\">377.94566796843185</desc><desc class=\"x_label\">34</desc></g><g class=\"dots\"><circle class=\"dot reactive tooltip-trigger\" cx=\"465.2929487179487\" cy=\"364.9343337969537\" r=\"2.5\"/><desc class=\"value\">30743.85714</desc><desc class=\"x left top\">465.2929487179487</desc><desc class=\"y left top\">364.9343337969537</desc><desc class=\"x_label\">35</desc></g><g class=\"dots\"><circle class=\"dot reactive tooltip-trigger\" cx=\"478.6022435897436\" cy=\"376.60988545202116\" r=\"2.5\"/><desc class=\"value\">28649.85714</desc><desc class=\"x left top\">478.6022435897436</desc><desc class=\"y left top\">376.60988545202116</desc><desc class=\"x_label\">36</desc></g><g class=\"dots\"><circle class=\"dot reactive tooltip-trigger\" cx=\"491.91153846153844\" cy=\"398.3145591489057\" r=\"2.5\"/><desc class=\"value\">24757.14286</desc><desc class=\"x left top\">491.91153846153844</desc><desc class=\"y left top\">398.3145591489057</desc><desc class=\"x_label\">37</desc></g><g class=\"dots\"><circle class=\"dot reactive tooltip-trigger\" cx=\"505.2208333333333\" cy=\"397.4073103199303\" r=\"2.5\"/><desc class=\"value\">24919.85714</desc><desc class=\"x left top\">505.2208333333333</desc><desc class=\"y left top\">397.4073103199303</desc><desc class=\"x_label\">38</desc></g><g class=\"dots\"><circle class=\"dot reactive tooltip-trigger\" cx=\"518.5301282051281\" cy=\"382.09957722489094\" r=\"2.5\"/><desc class=\"value\">27665.28571</desc><desc class=\"x left top\">518.5301282051281</desc><desc class=\"y left top\">382.09957722489094</desc><desc class=\"x_label\">39</desc></g><g class=\"dots\"><circle class=\"dot reactive tooltip-trigger\" cx=\"531.839423076923\" cy=\"373.7734384985695\" r=\"2.5\"/><desc class=\"value\">29158.57143</desc><desc class=\"x left top\">531.839423076923</desc><desc class=\"y left top\">373.7734384985695</desc><desc class=\"x_label\">40</desc></g><g class=\"dots\"><circle class=\"dot reactive tooltip-trigger\" cx=\"545.148717948718\" cy=\"342.49924115698707\" r=\"2.5\"/><desc class=\"value\">34767.57143</desc><desc class=\"x left top\">545.148717948718</desc><desc class=\"y left top\">342.49924115698707</desc><desc class=\"x_label\">41</desc></g><g class=\"dots\"><circle class=\"dot reactive tooltip-trigger\" cx=\"558.4580128205127\" cy=\"322.29124924205576\" r=\"2.5\"/><desc class=\"value\">38391.85714</desc><desc class=\"x left top\">558.4580128205127</desc><desc class=\"y left top\">322.29124924205576</desc><desc class=\"x_label\">42</desc></g><g class=\"dots\"><circle class=\"dot reactive tooltip-trigger\" cx=\"571.7673076923077\" cy=\"321.0271545172235\" r=\"2.5\"/><desc class=\"value\">38618.57143</desc><desc class=\"x left top\">571.7673076923077</desc><desc class=\"y left top\">321.0271545172235</desc><desc class=\"x_label\">43</desc></g><g class=\"dots\"><circle class=\"dot reactive tooltip-trigger\" cx=\"585.0766025641026\" cy=\"281.4897443997051\" r=\"2.5\"/><desc class=\"value\">45709.57143</desc><desc class=\"x left top\">585.0766025641026</desc><desc class=\"y left top\">281.4897443997051</desc><desc class=\"x_label\">44</desc></g><g class=\"dots\"><circle class=\"dot reactive tooltip-trigger\" cx=\"598.3858974358974\" cy=\"285.5185982864108\" r=\"2.5\"/><desc class=\"value\">44987</desc><desc class=\"x left top\">598.3858974358974</desc><desc class=\"y left top\">285.5185982864108</desc><desc class=\"x_label\">45</desc></g><g class=\"dots\"><circle class=\"dot reactive tooltip-trigger\" cx=\"611.6951923076923\" cy=\"263.04925481269\" r=\"2.5\"/><desc class=\"value\">49016.85714</desc><desc class=\"x left top\">611.6951923076923</desc><desc class=\"y left top\">263.04925481269</desc><desc class=\"x_label\">46</desc></g><g class=\"dots\"><circle class=\"dot reactive tooltip-trigger\" cx=\"625.0044871794872\" cy=\"227.00065055198672\" r=\"2.5\"/><desc class=\"value\">55482.14286</desc><desc class=\"x left\">625.0044871794872</desc><desc class=\"y left\">227.00065055198672</desc><desc class=\"x_label\">47</desc></g><g class=\"dots\"><circle class=\"dot reactive tooltip-trigger\" cx=\"638.313782051282\" cy=\"155.54146337562787\" r=\"2.5\"/><desc class=\"value\">68298.28571</desc><desc class=\"x left\">638.313782051282</desc><desc class=\"y left\">155.54146337562787</desc><desc class=\"x_label\">48</desc></g><g class=\"dots\"><circle class=\"dot reactive tooltip-trigger\" cx=\"651.6230769230768\" cy=\"9.884615384615415\" r=\"2.5\"/><desc class=\"value\">94421.71429</desc><desc class=\"x left\">651.6230769230768</desc><desc class=\"y left\">9.884615384615415</desc><desc class=\"x_label\">49</desc></g></g></g><g class=\"plot text-overlay\" transform=\"translate(115, 46)\"><g class=\"series serie-0 color-0\"/></g><g class=\"plot tooltip-overlay\" transform=\"translate(115, 46)\"><g class=\"tooltip\" style=\"opacity: 0\" transform=\"translate(0 0)\"><rect class=\"tooltip-box\" height=\"0\" rx=\"0\" ry=\"0\" width=\"0\"/><g class=\"text\"/></g></g><g class=\"legends\" transform=\"translate(10, 56)\"><g class=\"legend reactive activate-serie\" id=\"activate-serie-0\"><rect class=\"color-0 reactive\" height=\"12\" width=\"12\" x=\"0.0\" y=\"1.0\"/><text x=\"17.0\" y=\"11.2\">周日均值</text></g></g><g class=\"legends\" transform=\"translate(790, 56)\"/></g></svg>"
      ],
      "text/plain": [
       "<pygal.graph.line.Line at 0x7ff2a4087eb8>"
      ]
     },
     "execution_count": 5,
     "metadata": {},
     "output_type": "execute_result"
    }
   ],
   "source": [
    "\n",
    "from itertools import groupby\n",
    "\n",
    "def draw_line(x_data,y_data,title,y_legend):\n",
    "    xy_map = []\n",
    "    for x,y in groupby(sorted(zip(x_data,y_data)),key = lambda _: _[0]):\n",
    "        y_list = [v for _,v in y]\n",
    "        xy_map.append([x,sum(y_list)/len(y_list)])\n",
    "    x_unique,y_mean = [*zip(*xy_map)]\n",
    "    line_chart = pygal.Line()\n",
    "    line_chart.title = title\n",
    "    line_chart.x_labels = x_unique\n",
    "    line_chart.add(y_legend,y_mean)\n",
    "    line_chart.render_to_file(title+'.svg')\n",
    "    return line_chart\n",
    "\n",
    "\n",
    "idx_month = dates.index('2017-12-01')\n",
    "line_chart_month = draw_line(months[:idx_month],close[:idx_month],'收盘价月均值（¥）','月日均值')\n",
    "line_chart_month\n",
    "\n",
    "idx_week = dates.index('2017-12-11')\n",
    "line_chart_week = draw_line(weeks[1:idx_week],close[1:idx_week],'收盘价周日均值（¥）','周日均值')\n",
    "line_chart_week"
   ]
  },
  {
   "cell_type": "code",
   "execution_count": null,
   "metadata": {
    "collapsed": true
   },
   "outputs": [],
   "source": []
  },
  {
   "cell_type": "code",
   "execution_count": 29,
   "metadata": {},
   "outputs": [
    {
     "ename": "ModuleNotFoundError",
     "evalue": "No module named 'cairosvg'",
     "output_type": "error",
     "traceback": [
      "\u001b[0;31m-----------------------------------------------------------------------\u001b[0m",
      "\u001b[0;31mModuleNotFoundError\u001b[0m                   Traceback (most recent call last)",
      "\u001b[0;32m/var/sw/anaconda3/lib/python3.6/site-packages/IPython/core/formatters.py\u001b[0m in \u001b[0;36m__call__\u001b[0;34m(self, obj)\u001b[0m\n\u001b[1;32m    334\u001b[0m             \u001b[0mmethod\u001b[0m \u001b[0;34m=\u001b[0m \u001b[0mget_real_method\u001b[0m\u001b[0;34m(\u001b[0m\u001b[0mobj\u001b[0m\u001b[0;34m,\u001b[0m \u001b[0mself\u001b[0m\u001b[0;34m.\u001b[0m\u001b[0mprint_method\u001b[0m\u001b[0;34m)\u001b[0m\u001b[0;34m\u001b[0m\u001b[0m\n\u001b[1;32m    335\u001b[0m             \u001b[0;32mif\u001b[0m \u001b[0mmethod\u001b[0m \u001b[0;32mis\u001b[0m \u001b[0;32mnot\u001b[0m \u001b[0;32mNone\u001b[0m\u001b[0;34m:\u001b[0m\u001b[0;34m\u001b[0m\u001b[0m\n\u001b[0;32m--> 336\u001b[0;31m                 \u001b[0;32mreturn\u001b[0m \u001b[0mmethod\u001b[0m\u001b[0;34m(\u001b[0m\u001b[0;34m)\u001b[0m\u001b[0;34m\u001b[0m\u001b[0m\n\u001b[0m\u001b[1;32m    337\u001b[0m             \u001b[0;32mreturn\u001b[0m \u001b[0;32mNone\u001b[0m\u001b[0;34m\u001b[0m\u001b[0m\n\u001b[1;32m    338\u001b[0m         \u001b[0;32melse\u001b[0m\u001b[0;34m:\u001b[0m\u001b[0;34m\u001b[0m\u001b[0m\n",
      "\u001b[0;32m/var/sw/anaconda3/lib/python3.6/site-packages/pygal/graph/base.py\u001b[0m in \u001b[0;36m_repr_png_\u001b[0;34m(self)\u001b[0m\n\u001b[1;32m    232\u001b[0m     \u001b[0;32mdef\u001b[0m \u001b[0m_repr_png_\u001b[0m\u001b[0;34m(\u001b[0m\u001b[0mself\u001b[0m\u001b[0;34m)\u001b[0m\u001b[0;34m:\u001b[0m\u001b[0;34m\u001b[0m\u001b[0m\n\u001b[1;32m    233\u001b[0m         \u001b[0;34m\"\"\"Display png in IPython notebook\"\"\"\u001b[0m\u001b[0;34m\u001b[0m\u001b[0m\n\u001b[0;32m--> 234\u001b[0;31m         \u001b[0;32mreturn\u001b[0m \u001b[0mself\u001b[0m\u001b[0;34m.\u001b[0m\u001b[0mrender_to_png\u001b[0m\u001b[0;34m(\u001b[0m\u001b[0;34m)\u001b[0m\u001b[0;34m\u001b[0m\u001b[0m\n\u001b[0m",
      "\u001b[0;32m/var/sw/anaconda3/lib/python3.6/site-packages/pygal/graph/public.py\u001b[0m in \u001b[0;36mrender_to_png\u001b[0;34m(self, filename, dpi, **kwargs)\u001b[0m\n\u001b[1;32m    116\u001b[0m     \u001b[0;32mdef\u001b[0m \u001b[0mrender_to_png\u001b[0m\u001b[0;34m(\u001b[0m\u001b[0mself\u001b[0m\u001b[0;34m,\u001b[0m \u001b[0mfilename\u001b[0m\u001b[0;34m=\u001b[0m\u001b[0;32mNone\u001b[0m\u001b[0;34m,\u001b[0m \u001b[0mdpi\u001b[0m\u001b[0;34m=\u001b[0m\u001b[0;36m72\u001b[0m\u001b[0;34m,\u001b[0m \u001b[0;34m**\u001b[0m\u001b[0mkwargs\u001b[0m\u001b[0;34m)\u001b[0m\u001b[0;34m:\u001b[0m\u001b[0;34m\u001b[0m\u001b[0m\n\u001b[1;32m    117\u001b[0m         \u001b[0;34m\"\"\"Render the graph, convert it to png and write it to filename\"\"\"\u001b[0m\u001b[0;34m\u001b[0m\u001b[0m\n\u001b[0;32m--> 118\u001b[0;31m         \u001b[0;32mimport\u001b[0m \u001b[0mcairosvg\u001b[0m\u001b[0;34m\u001b[0m\u001b[0m\n\u001b[0m\u001b[1;32m    119\u001b[0m         return cairosvg.svg2png(\n\u001b[1;32m    120\u001b[0m             bytestring=self.render(**kwargs), write_to=filename, dpi=dpi)\n",
      "\u001b[0;31mModuleNotFoundError\u001b[0m: No module named 'cairosvg'"
     ]
    },
    {
     "data": {
      "image/svg+xml": [
       "<svg xmlns:xlink=\"http://www.w3.org/1999/xlink\" xmlns=\"http://www.w3.org/2000/svg\" id=\"chart-9232861c-5191-4445-b997-9986c1569627\" class=\"pygal-chart\" viewBox=\"0 0 800 600\"><!--Generated with pygal 2.4.0 (lxml) ©Kozea 2012-2016 on 2018-08-19--><!--http://pygal.org--><!--http://github.com/Kozea/pygal--><defs><style type=\"text/css\">#chart-9232861c-5191-4445-b997-9986c1569627{-webkit-user-select:none;-webkit-font-smoothing:antialiased;font-family:Consolas,\"Liberation Mono\",Menlo,Courier,monospace}#chart-9232861c-5191-4445-b997-9986c1569627 .title{font-family:Consolas,\"Liberation Mono\",Menlo,Courier,monospace;font-size:16px}#chart-9232861c-5191-4445-b997-9986c1569627 .legends .legend text{font-family:Consolas,\"Liberation Mono\",Menlo,Courier,monospace;font-size:14px}#chart-9232861c-5191-4445-b997-9986c1569627 .axis text{font-family:Consolas,\"Liberation Mono\",Menlo,Courier,monospace;font-size:10px}#chart-9232861c-5191-4445-b997-9986c1569627 .axis text.major{font-family:Consolas,\"Liberation Mono\",Menlo,Courier,monospace;font-size:10px}#chart-9232861c-5191-4445-b997-9986c1569627 .text-overlay text.value{font-family:Consolas,\"Liberation Mono\",Menlo,Courier,monospace;font-size:16px}#chart-9232861c-5191-4445-b997-9986c1569627 .text-overlay text.label{font-family:Consolas,\"Liberation Mono\",Menlo,Courier,monospace;font-size:10px}#chart-9232861c-5191-4445-b997-9986c1569627 .tooltip{font-family:Consolas,\"Liberation Mono\",Menlo,Courier,monospace;font-size:14px}#chart-9232861c-5191-4445-b997-9986c1569627 text.no_data{font-family:Consolas,\"Liberation Mono\",Menlo,Courier,monospace;font-size:64px}\n",
       "#chart-9232861c-5191-4445-b997-9986c1569627{background-color:rgba(249,249,249,1)}#chart-9232861c-5191-4445-b997-9986c1569627 path,#chart-9232861c-5191-4445-b997-9986c1569627 line,#chart-9232861c-5191-4445-b997-9986c1569627 rect,#chart-9232861c-5191-4445-b997-9986c1569627 circle{-webkit-transition:150ms;-moz-transition:150ms;transition:150ms}#chart-9232861c-5191-4445-b997-9986c1569627 .graph &gt; .background{fill:rgba(249,249,249,1)}#chart-9232861c-5191-4445-b997-9986c1569627 .plot &gt; .background{fill:rgba(255,255,255,1)}#chart-9232861c-5191-4445-b997-9986c1569627 .graph{fill:rgba(0,0,0,.87)}#chart-9232861c-5191-4445-b997-9986c1569627 text.no_data{fill:rgba(0,0,0,1)}#chart-9232861c-5191-4445-b997-9986c1569627 .title{fill:rgba(0,0,0,1)}#chart-9232861c-5191-4445-b997-9986c1569627 .legends .legend text{fill:rgba(0,0,0,.87)}#chart-9232861c-5191-4445-b997-9986c1569627 .legends .legend:hover text{fill:rgba(0,0,0,1)}#chart-9232861c-5191-4445-b997-9986c1569627 .axis .line{stroke:rgba(0,0,0,1)}#chart-9232861c-5191-4445-b997-9986c1569627 .axis .guide.line{stroke:rgba(0,0,0,.54)}#chart-9232861c-5191-4445-b997-9986c1569627 .axis .major.line{stroke:rgba(0,0,0,.87)}#chart-9232861c-5191-4445-b997-9986c1569627 .axis text.major{fill:rgba(0,0,0,1)}#chart-9232861c-5191-4445-b997-9986c1569627 .axis.y .guides:hover .guide.line,#chart-9232861c-5191-4445-b997-9986c1569627 .line-graph .axis.x .guides:hover .guide.line,#chart-9232861c-5191-4445-b997-9986c1569627 .stackedline-graph .axis.x .guides:hover .guide.line,#chart-9232861c-5191-4445-b997-9986c1569627 .xy-graph .axis.x .guides:hover .guide.line{stroke:rgba(0,0,0,1)}#chart-9232861c-5191-4445-b997-9986c1569627 .axis .guides:hover text{fill:rgba(0,0,0,1)}#chart-9232861c-5191-4445-b997-9986c1569627 .reactive{fill-opacity:.7;stroke-opacity:.8}#chart-9232861c-5191-4445-b997-9986c1569627 .ci{stroke:rgba(0,0,0,.87)}#chart-9232861c-5191-4445-b997-9986c1569627 .reactive.active,#chart-9232861c-5191-4445-b997-9986c1569627 .active .reactive{fill-opacity:.8;stroke-opacity:.9;stroke-width:4}#chart-9232861c-5191-4445-b997-9986c1569627 .ci .reactive.active{stroke-width:1.5}#chart-9232861c-5191-4445-b997-9986c1569627 .series text{fill:rgba(0,0,0,1)}#chart-9232861c-5191-4445-b997-9986c1569627 .tooltip rect{fill:rgba(255,255,255,1);stroke:rgba(0,0,0,1);-webkit-transition:opacity 150ms;-moz-transition:opacity 150ms;transition:opacity 150ms}#chart-9232861c-5191-4445-b997-9986c1569627 .tooltip .label{fill:rgba(0,0,0,.87)}#chart-9232861c-5191-4445-b997-9986c1569627 .tooltip .label{fill:rgba(0,0,0,.87)}#chart-9232861c-5191-4445-b997-9986c1569627 .tooltip .legend{font-size:.8em;fill:rgba(0,0,0,.54)}#chart-9232861c-5191-4445-b997-9986c1569627 .tooltip .x_label{font-size:.6em;fill:rgba(0,0,0,1)}#chart-9232861c-5191-4445-b997-9986c1569627 .tooltip .xlink{font-size:.5em;text-decoration:underline}#chart-9232861c-5191-4445-b997-9986c1569627 .tooltip .value{font-size:1.5em}#chart-9232861c-5191-4445-b997-9986c1569627 .bound{font-size:.5em}#chart-9232861c-5191-4445-b997-9986c1569627 .max-value{font-size:.75em;fill:rgba(0,0,0,.54)}#chart-9232861c-5191-4445-b997-9986c1569627 .map-element{fill:rgba(255,255,255,1);stroke:rgba(0,0,0,.54) !important}#chart-9232861c-5191-4445-b997-9986c1569627 .map-element .reactive{fill-opacity:inherit;stroke-opacity:inherit}#chart-9232861c-5191-4445-b997-9986c1569627 .color-0,#chart-9232861c-5191-4445-b997-9986c1569627 .color-0 a:visited{stroke:#F44336;fill:#F44336}#chart-9232861c-5191-4445-b997-9986c1569627 .text-overlay .color-0 text{fill:black}\n",
       "#chart-9232861c-5191-4445-b997-9986c1569627 text.no_data{text-anchor:middle}#chart-9232861c-5191-4445-b997-9986c1569627 .guide.line{fill:none}#chart-9232861c-5191-4445-b997-9986c1569627 .centered{text-anchor:middle}#chart-9232861c-5191-4445-b997-9986c1569627 .title{text-anchor:middle}#chart-9232861c-5191-4445-b997-9986c1569627 .legends .legend text{fill-opacity:1}#chart-9232861c-5191-4445-b997-9986c1569627 .axis.x text{text-anchor:middle}#chart-9232861c-5191-4445-b997-9986c1569627 .axis.x:not(.web) text[transform]{text-anchor:start}#chart-9232861c-5191-4445-b997-9986c1569627 .axis.x:not(.web) text[transform].backwards{text-anchor:end}#chart-9232861c-5191-4445-b997-9986c1569627 .axis.y text{text-anchor:end}#chart-9232861c-5191-4445-b997-9986c1569627 .axis.y text[transform].backwards{text-anchor:start}#chart-9232861c-5191-4445-b997-9986c1569627 .axis.y2 text{text-anchor:start}#chart-9232861c-5191-4445-b997-9986c1569627 .axis.y2 text[transform].backwards{text-anchor:end}#chart-9232861c-5191-4445-b997-9986c1569627 .axis .guide.line{stroke-dasharray:4,4}#chart-9232861c-5191-4445-b997-9986c1569627 .axis .major.guide.line{stroke-dasharray:6,6}#chart-9232861c-5191-4445-b997-9986c1569627 .horizontal .axis.y .guide.line,#chart-9232861c-5191-4445-b997-9986c1569627 .horizontal .axis.y2 .guide.line,#chart-9232861c-5191-4445-b997-9986c1569627 .vertical .axis.x .guide.line{opacity:0}#chart-9232861c-5191-4445-b997-9986c1569627 .horizontal .axis.always_show .guide.line,#chart-9232861c-5191-4445-b997-9986c1569627 .vertical .axis.always_show .guide.line{opacity:1 !important}#chart-9232861c-5191-4445-b997-9986c1569627 .axis.y .guides:hover .guide.line,#chart-9232861c-5191-4445-b997-9986c1569627 .axis.y2 .guides:hover .guide.line,#chart-9232861c-5191-4445-b997-9986c1569627 .axis.x .guides:hover .guide.line{opacity:1}#chart-9232861c-5191-4445-b997-9986c1569627 .axis .guides:hover text{opacity:1}#chart-9232861c-5191-4445-b997-9986c1569627 .nofill{fill:none}#chart-9232861c-5191-4445-b997-9986c1569627 .subtle-fill{fill-opacity:.2}#chart-9232861c-5191-4445-b997-9986c1569627 .dot{stroke-width:1px;fill-opacity:1}#chart-9232861c-5191-4445-b997-9986c1569627 .dot.active{stroke-width:5px}#chart-9232861c-5191-4445-b997-9986c1569627 .dot.negative{fill:transparent}#chart-9232861c-5191-4445-b997-9986c1569627 text,#chart-9232861c-5191-4445-b997-9986c1569627 tspan{stroke:none !important}#chart-9232861c-5191-4445-b997-9986c1569627 .series text.active{opacity:1}#chart-9232861c-5191-4445-b997-9986c1569627 .tooltip rect{fill-opacity:.95;stroke-width:.5}#chart-9232861c-5191-4445-b997-9986c1569627 .tooltip text{fill-opacity:1}#chart-9232861c-5191-4445-b997-9986c1569627 .showable{visibility:hidden}#chart-9232861c-5191-4445-b997-9986c1569627 .showable.shown{visibility:visible}#chart-9232861c-5191-4445-b997-9986c1569627 .gauge-background{fill:rgba(229,229,229,1);stroke:none}#chart-9232861c-5191-4445-b997-9986c1569627 .bg-lines{stroke:rgba(249,249,249,1);stroke-width:2px}</style><script type=\"text/javascript\">window.pygal = window.pygal || {};window.pygal.config = window.pygal.config || {};window.pygal.config['9232861c-5191-4445-b997-9986c1569627'] = {\"allow_interruptions\": false, \"box_mode\": \"extremes\", \"classes\": [\"pygal-chart\"], \"css\": [\"file://style.css\", \"file://graph.css\"], \"defs\": [], \"disable_xml_declaration\": true, \"dots_size\": 2.5, \"dynamic_print_values\": false, \"explicit_size\": false, \"fill\": false, \"force_uri_protocol\": \"https\", \"formatter\": null, \"half_pie\": false, \"height\": 600, \"include_x_axis\": false, \"inner_radius\": 0, \"interpolate\": null, \"interpolation_parameters\": {}, \"interpolation_precision\": 250, \"inverse_y_axis\": false, \"js\": [\"//kozea.github.io/pygal.js/2.0.x/pygal-tooltips.min.js\"], \"legend_at_bottom\": false, \"legend_at_bottom_columns\": null, \"legend_box_size\": 12, \"logarithmic\": false, \"margin\": 20, \"margin_bottom\": null, \"margin_left\": null, \"margin_right\": null, \"margin_top\": null, \"max_scale\": 16, \"min_scale\": 4, \"missing_value_fill_truncation\": \"x\", \"no_data_text\": \"No data\", \"no_prefix\": false, \"order_min\": null, \"pretty_print\": false, \"print_labels\": false, \"print_values\": false, \"print_values_position\": \"center\", \"print_zeroes\": true, \"range\": null, \"rounded_bars\": null, \"secondary_range\": null, \"show_dots\": true, \"show_legend\": true, \"show_minor_x_labels\": true, \"show_minor_y_labels\": true, \"show_only_major_dots\": false, \"show_x_guides\": false, \"show_x_labels\": true, \"show_y_guides\": true, \"show_y_labels\": true, \"spacing\": 10, \"stack_from_top\": false, \"strict\": false, \"stroke\": true, \"stroke_style\": null, \"style\": {\"background\": \"rgba(249, 249, 249, 1)\", \"ci_colors\": [], \"colors\": [\"#F44336\", \"#3F51B5\", \"#009688\", \"#FFC107\", \"#FF5722\", \"#9C27B0\", \"#03A9F4\", \"#8BC34A\", \"#FF9800\", \"#E91E63\", \"#2196F3\", \"#4CAF50\", \"#FFEB3B\", \"#673AB7\", \"#00BCD4\", \"#CDDC39\", \"#9E9E9E\", \"#607D8B\"], \"font_family\": \"Consolas, \\\"Liberation Mono\\\", Menlo, Courier, monospace\", \"foreground\": \"rgba(0, 0, 0, .87)\", \"foreground_strong\": \"rgba(0, 0, 0, 1)\", \"foreground_subtle\": \"rgba(0, 0, 0, .54)\", \"guide_stroke_dasharray\": \"4,4\", \"label_font_family\": \"Consolas, \\\"Liberation Mono\\\", Menlo, Courier, monospace\", \"label_font_size\": 10, \"legend_font_family\": \"Consolas, \\\"Liberation Mono\\\", Menlo, Courier, monospace\", \"legend_font_size\": 14, \"major_guide_stroke_dasharray\": \"6,6\", \"major_label_font_family\": \"Consolas, \\\"Liberation Mono\\\", Menlo, Courier, monospace\", \"major_label_font_size\": 10, \"no_data_font_family\": \"Consolas, \\\"Liberation Mono\\\", Menlo, Courier, monospace\", \"no_data_font_size\": 64, \"opacity\": \".7\", \"opacity_hover\": \".8\", \"plot_background\": \"rgba(255, 255, 255, 1)\", \"stroke_opacity\": \".8\", \"stroke_opacity_hover\": \".9\", \"title_font_family\": \"Consolas, \\\"Liberation Mono\\\", Menlo, Courier, monospace\", \"title_font_size\": 16, \"tooltip_font_family\": \"Consolas, \\\"Liberation Mono\\\", Menlo, Courier, monospace\", \"tooltip_font_size\": 14, \"transition\": \"150ms\", \"value_background\": \"rgba(229, 229, 229, 1)\", \"value_colors\": [], \"value_font_family\": \"Consolas, \\\"Liberation Mono\\\", Menlo, Courier, monospace\", \"value_font_size\": 16, \"value_label_font_family\": \"Consolas, \\\"Liberation Mono\\\", Menlo, Courier, monospace\", \"value_label_font_size\": 10}, \"title\": \"\\u6536\\u76d8\\u4ef7\\u661f\\u671f\\u5747\\u503c\\uff08\\u00a5\\uff09\", \"tooltip_border_radius\": 0, \"tooltip_fancy_mode\": true, \"truncate_label\": null, \"truncate_legend\": null, \"width\": 800, \"x_label_rotation\": 0, \"x_labels\": [\"\\u5468\\u4e00\", \"\\u5468\\u4e8c\", \"\\u5468\\u4e09\", \"\\u5468\\u56db\", \"\\u5468\\u4e94\", \"\\u5468\\u516d\", \"\\u5468\\u65e5\"], \"x_labels_major\": null, \"x_labels_major_count\": null, \"x_labels_major_every\": null, \"x_title\": null, \"xrange\": null, \"y_label_rotation\": 0, \"y_labels\": null, \"y_labels_major\": null, \"y_labels_major_count\": null, \"y_labels_major_every\": null, \"y_title\": null, \"zero\": 0, \"legends\": [\"\\u661f\\u671f\\u5747\\u503c\"]}</script><script type=\"text/javascript\" xlink:href=\"https://kozea.github.io/pygal.js/2.0.x/pygal-tooltips.min.js\"/></defs><title>收盘价星期均值（¥）</title><g class=\"graph line-graph vertical\"><rect class=\"background\" height=\"600\" width=\"800\" x=\"0\" y=\"0\"/><g class=\"plot\" transform=\"translate(115, 46)\"><rect class=\"background\" height=\"514\" width=\"664.4\" x=\"0\" y=\"0\"/><g class=\"axis y always_show\"><path class=\"line\" d=\"M0.000000 514.000000 h664.400000\"/><g class=\"guides\"><path class=\"major guide line\" d=\"M0.000000 502.489046 h664.400000\"/><text class=\"major\" x=\"-5\" y=\"505.98904594459486\">21000</text><title>21000</title></g><g class=\"guides\"><path class=\"guide line\" d=\"M0.000000 469.284631 h664.400000\"/><text class=\"\" x=\"-5\" y=\"472.7846314159694\">21100</text><title>21100</title></g><g class=\"guides\"><path class=\"guide line\" d=\"M0.000000 436.080217 h664.400000\"/><text class=\"\" x=\"-5\" y=\"439.5802168873439\">21200</text><title>21200</title></g><g class=\"guides\"><path class=\"guide line\" d=\"M0.000000 402.875802 h664.400000\"/><text class=\"\" x=\"-5\" y=\"406.37580235871843\">21300</text><title>21300</title></g><g class=\"guides\"><path class=\"guide line\" d=\"M0.000000 369.671388 h664.400000\"/><text class=\"\" x=\"-5\" y=\"373.17138783009295\">21400</text><title>21400</title></g><g class=\"guides\"><path class=\"major guide line\" d=\"M0.000000 336.466973 h664.400000\"/><text class=\"major\" x=\"-5\" y=\"339.96697330146753\">21500</text><title>21500</title></g><g class=\"guides\"><path class=\"guide line\" d=\"M0.000000 303.262559 h664.400000\"/><text class=\"\" x=\"-5\" y=\"306.762558772842\">21600</text><title>21600</title></g><g class=\"guides\"><path class=\"guide line\" d=\"M0.000000 270.058144 h664.400000\"/><text class=\"\" x=\"-5\" y=\"273.5581442442166\">21700</text><title>21700</title></g><g class=\"guides\"><path class=\"guide line\" d=\"M0.000000 236.853730 h664.400000\"/><text class=\"\" x=\"-5\" y=\"240.3537297155911\">21800</text><title>21800</title></g><g class=\"guides\"><path class=\"guide line\" d=\"M0.000000 203.649315 h664.400000\"/><text class=\"\" x=\"-5\" y=\"207.14931518696562\">21900</text><title>21900</title></g><g class=\"guides\"><path class=\"major guide line\" d=\"M0.000000 170.444901 h664.400000\"/><text class=\"major\" x=\"-5\" y=\"173.94490065834015\">22000</text><title>22000</title></g><g class=\"guides\"><path class=\"guide line\" d=\"M0.000000 137.240486 h664.400000\"/><text class=\"\" x=\"-5\" y=\"140.74048612971467\">22100</text><title>22100</title></g><g class=\"guides\"><path class=\"guide line\" d=\"M0.000000 104.036072 h664.400000\"/><text class=\"\" x=\"-5\" y=\"107.53607160108925\">22200</text><title>22200</title></g><g class=\"guides\"><path class=\"guide line\" d=\"M0.000000 70.831657 h664.400000\"/><text class=\"\" x=\"-5\" y=\"74.33165707246377\">22300</text><title>22300</title></g><g class=\"guides\"><path class=\"guide line\" d=\"M0.000000 37.627243 h664.400000\"/><text class=\"\" x=\"-5\" y=\"41.12724254383829\">22400</text><title>22400</title></g></g><g class=\"axis x\"><g class=\"guides\"><path class=\"line\" d=\"M12.776923 0.000000 v514.000000\"/><text class=\"\" x=\"12.776923076923076\" y=\"529.0\">周一</text></g><g class=\"guides\"><path class=\"guide line\" d=\"M119.251282 0.000000 v514.000000\"/><text class=\"\" x=\"119.25128205128203\" y=\"529.0\">周二</text></g><g class=\"guides\"><path class=\"guide line\" d=\"M225.725641 0.000000 v514.000000\"/><text class=\"\" x=\"225.725641025641\" y=\"529.0\">周三</text></g><g class=\"guides\"><path class=\"guide line\" d=\"M332.200000 0.000000 v514.000000\"/><text class=\"\" x=\"332.2\" y=\"529.0\">周四</text></g><g class=\"guides\"><path class=\"guide line\" d=\"M438.674359 0.000000 v514.000000\"/><text class=\"\" x=\"438.67435897435894\" y=\"529.0\">周五</text></g><g class=\"guides\"><path class=\"guide line\" d=\"M545.148718 0.000000 v514.000000\"/><text class=\"\" x=\"545.148717948718\" y=\"529.0\">周六</text></g><g class=\"guides\"><path class=\"guide line\" d=\"M651.623077 0.000000 v514.000000\"/><text class=\"\" x=\"651.6230769230768\" y=\"529.0\">周日</text></g></g><g class=\"series serie-0 color-0\"><path class=\"line reactive nofill\" d=\"M12.776923 504.115385 L119.251282 470.063919 225.725641 306.589777 332.200000 83.679733 438.674359 84.133752 545.148718 58.586682 651.623077 9.884615\"/></g></g><g class=\"titles\"><text class=\"title plot_title\" x=\"400.0\" y=\"26\">收盘价星期均值（¥）</text></g><g class=\"plot overlay\" transform=\"translate(115, 46)\"><g class=\"series serie-0 color-0\"><g class=\"dots\"><circle class=\"dot reactive tooltip-trigger\" cx=\"12.776923076923076\" cy=\"504.1153846153843\" r=\"2.5\"/><desc class=\"value\">20995.10204</desc><desc class=\"x top\">12.776923076923076</desc><desc class=\"y top\">504.1153846153843</desc><desc class=\"x_label\">周一</desc></g><g class=\"dots\"><circle class=\"dot reactive tooltip-trigger\" cx=\"119.25128205128203\" cy=\"470.06391869572286\" r=\"2.5\"/><desc class=\"value\">21097.65306</desc><desc class=\"x top\">119.25128205128203</desc><desc class=\"y top\">470.06391869572286</desc><desc class=\"x_label\">周二</desc></g><g class=\"dots\"><circle class=\"dot reactive tooltip-trigger\" cx=\"225.725641025641\" cy=\"306.58977663683294\" r=\"2.5\"/><desc class=\"value\">21589.97959</desc><desc class=\"x top\">225.725641025641</desc><desc class=\"y top\">306.58977663683294</desc><desc class=\"x_label\">周三</desc></g><g class=\"dots\"><circle class=\"dot reactive tooltip-trigger\" cx=\"332.2\" cy=\"83.67973257170343\" r=\"2.5\"/><desc class=\"value\">22261.30612</desc><desc class=\"x \">332.2</desc><desc class=\"y \">83.67973257170343</desc><desc class=\"x_label\">周四</desc></g><g class=\"dots\"><circle class=\"dot reactive tooltip-trigger\" cx=\"438.67435897435894\" cy=\"84.13375211729908\" r=\"2.5\"/><desc class=\"value\">22259.93878</desc><desc class=\"x left\">438.67435897435894</desc><desc class=\"y left\">84.13375211729908</desc><desc class=\"x_label\">周五</desc></g><g class=\"dots\"><circle class=\"dot reactive tooltip-trigger\" cx=\"545.148717948718\" cy=\"58.586682163642536\" r=\"2.5\"/><desc class=\"value\">22336.87755</desc><desc class=\"x left\">545.148717948718</desc><desc class=\"y left\">58.586682163642536</desc><desc class=\"x_label\">周六</desc></g><g class=\"dots\"><circle class=\"dot reactive tooltip-trigger\" cx=\"651.6230769230768\" cy=\"9.8846153846157\" r=\"2.5\"/><desc class=\"value\">22483.55102</desc><desc class=\"x left\">651.6230769230768</desc><desc class=\"y left\">9.8846153846157</desc><desc class=\"x_label\">周日</desc></g></g></g><g class=\"plot text-overlay\" transform=\"translate(115, 46)\"><g class=\"series serie-0 color-0\"/></g><g class=\"plot tooltip-overlay\" transform=\"translate(115, 46)\"><g class=\"tooltip\" style=\"opacity: 0\" transform=\"translate(0 0)\"><rect class=\"tooltip-box\" height=\"0\" rx=\"0\" ry=\"0\" width=\"0\"/><g class=\"text\"/></g></g><g class=\"legends\" transform=\"translate(10, 56)\"><g class=\"legend reactive activate-serie\" id=\"activate-serie-0\"><rect class=\"color-0 reactive\" height=\"12\" width=\"12\" x=\"0.0\" y=\"1.0\"/><text x=\"17.0\" y=\"11.2\">星期均值</text></g></g><g class=\"legends\" transform=\"translate(790, 56)\"/></g></svg>"
      ],
      "text/plain": [
       "<pygal.graph.line.Line at 0x7ff2a4437550>"
      ]
     },
     "execution_count": 29,
     "metadata": {},
     "output_type": "execute_result"
    }
   ],
   "source": [
    "idx_week = dates.index('2017-12-11')\n",
    "wd = ['Monday', 'Tuesday', 'Wednesday',\n",
    "      'Thursday', 'Friday', 'Saturday', 'Sunday']\n",
    "weekdays_int = [wd.index(w) + 1 for w in weekdays[1:idx_week]]\n",
    "line_chart_weekday = draw_line(\n",
    "    weekdays_int, close[1:idx_week], '收盘价星期均值（¥）', '星期均值')\n",
    "line_chart_weekday.x_labels = ['周一', '周二', '周三', '周四', '周五', '周六', '周日']\n",
    "line_chart_weekday.render_to_file('收盘价星期均值（¥）.svg')\n",
    "line_chart_weekday"
   ]
  },
  {
   "cell_type": "code",
   "execution_count": null,
   "metadata": {
    "collapsed": true
   },
   "outputs": [],
   "source": []
  },
  {
   "cell_type": "code",
   "execution_count": null,
   "metadata": {
    "collapsed": true
   },
   "outputs": [],
   "source": []
  },
  {
   "cell_type": "code",
   "execution_count": null,
   "metadata": {
    "collapsed": true
   },
   "outputs": [],
   "source": []
  },
  {
   "cell_type": "code",
   "execution_count": null,
   "metadata": {
    "collapsed": true
   },
   "outputs": [],
   "source": []
  },
  {
   "cell_type": "code",
   "execution_count": null,
   "metadata": {
    "collapsed": true
   },
   "outputs": [],
   "source": [
    "idx_week = dates.index('2017-12-11')\n",
    "wd = ['Monday', 'Tuesday', 'Wednesday',\n",
    "      'Thursday', 'Friday', 'Saturday', 'Sunday']\n",
    "weekdays_int = [wd.index(w) + 1 for w in weekdays[1:idx_week]]\n",
    "line_chart_weekday = draw_line(\n",
    "    weekdays_int, close[1:idx_week], '收盘价星期均值（¥）', '星期均值')\n",
    "line_chart_weekday.x_labels = ['周一', '周二', '周三', '周四', '周五', '周六', '周日']\n",
    "line_chart_weekday.render_to_file('收盘价星期均值（¥）.svg')\n",
    "line_chart_weekday"
   ]
  },
  {
   "cell_type": "code",
   "execution_count": 21,
   "metadata": {},
   "outputs": [],
   "source": [
    "with open ('收盘价Dashboard.html','w',encoding = 'utf8') as html_file:\n",
    "    html_file.write('<html><head><title>收盘价Dashboard</title><metacharset=\"utf-8\"></head><body>\\n')\n",
    "    for svg in [\n",
    "        '收盘价折线图（¥）.svg','收盘价对数变换折线图（¥）.svg','收盘价月均值（¥）.svg',\n",
    "        '收盘价周日均值（¥）.svg'\n",
    "    ]:\n",
    "        html_file.write(\n",
    "            '    <object type=\"image/svg+xml\" data =\"{0}\" height=500></object>\\n'.format(svg))\n",
    "    html_file.write('</body></html>')"
   ]
  },
  {
   "cell_type": "code",
   "execution_count": null,
   "metadata": {
    "collapsed": true
   },
   "outputs": [],
   "source": []
  },
  {
   "cell_type": "code",
   "execution_count": null,
   "metadata": {
    "collapsed": true
   },
   "outputs": [],
   "source": []
  },
  {
   "cell_type": "code",
   "execution_count": null,
   "metadata": {
    "collapsed": true
   },
   "outputs": [],
   "source": []
  },
  {
   "cell_type": "code",
   "execution_count": null,
   "metadata": {
    "collapsed": true
   },
   "outputs": [],
   "source": []
  },
  {
   "cell_type": "code",
   "execution_count": 13,
   "metadata": {
    "collapsed": true
   },
   "outputs": [],
   "source": [
    "\n"
   ]
  },
  {
   "cell_type": "code",
   "execution_count": null,
   "metadata": {
    "collapsed": true
   },
   "outputs": [],
   "source": []
  },
  {
   "cell_type": "code",
   "execution_count": null,
   "metadata": {
    "collapsed": true
   },
   "outputs": [],
   "source": []
  },
  {
   "cell_type": "code",
   "execution_count": null,
   "metadata": {
    "collapsed": true
   },
   "outputs": [],
   "source": []
  },
  {
   "cell_type": "code",
   "execution_count": null,
   "metadata": {
    "collapsed": true
   },
   "outputs": [],
   "source": []
  },
  {
   "cell_type": "code",
   "execution_count": null,
   "metadata": {
    "collapsed": true
   },
   "outputs": [],
   "source": []
  },
  {
   "cell_type": "code",
   "execution_count": null,
   "metadata": {
    "collapsed": true
   },
   "outputs": [],
   "source": []
  },
  {
   "cell_type": "code",
   "execution_count": 22,
   "metadata": {},
   "outputs": [
    {
     "ename": "ValueError",
     "evalue": "'1' is not in list",
     "output_type": "error",
     "traceback": [
      "\u001b[0;31m-----------------------------------------------------------------------\u001b[0m",
      "\u001b[0;31mValueError\u001b[0m                            Traceback (most recent call last)",
      "\u001b[0;32m<ipython-input-22-c4cb8fabfe22>\u001b[0m in \u001b[0;36m<module>\u001b[0;34m()\u001b[0m\n\u001b[1;32m      2\u001b[0m wd = ['Monday', 'Tuesday', 'Wednesday',\n\u001b[1;32m      3\u001b[0m       'Thursday', 'Friday', 'Saturday', 'Sunday']\n\u001b[0;32m----> 4\u001b[0;31m \u001b[0mweekdays_int\u001b[0m \u001b[0;34m=\u001b[0m \u001b[0;34m[\u001b[0m\u001b[0mwd\u001b[0m\u001b[0;34m.\u001b[0m\u001b[0mindex\u001b[0m\u001b[0;34m(\u001b[0m\u001b[0mw\u001b[0m\u001b[0;34m)\u001b[0m \u001b[0;34m+\u001b[0m \u001b[0;36m1\u001b[0m \u001b[0;32mfor\u001b[0m \u001b[0mw\u001b[0m \u001b[0;32min\u001b[0m \u001b[0mweekdays\u001b[0m\u001b[0;34m[\u001b[0m\u001b[0;36m1\u001b[0m\u001b[0;34m:\u001b[0m\u001b[0midx_week\u001b[0m\u001b[0;34m]\u001b[0m\u001b[0;34m]\u001b[0m\u001b[0;34m\u001b[0m\u001b[0m\n\u001b[0m\u001b[1;32m      5\u001b[0m line_chart_weekday = draw_line(\n\u001b[1;32m      6\u001b[0m     weekdays_int, close[1:idx_week], '收盘价星期均值（¥）', '星期均值')\n",
      "\u001b[0;32m<ipython-input-22-c4cb8fabfe22>\u001b[0m in \u001b[0;36m<listcomp>\u001b[0;34m(.0)\u001b[0m\n\u001b[1;32m      2\u001b[0m wd = ['Monday', 'Tuesday', 'Wednesday',\n\u001b[1;32m      3\u001b[0m       'Thursday', 'Friday', 'Saturday', 'Sunday']\n\u001b[0;32m----> 4\u001b[0;31m \u001b[0mweekdays_int\u001b[0m \u001b[0;34m=\u001b[0m \u001b[0;34m[\u001b[0m\u001b[0mwd\u001b[0m\u001b[0;34m.\u001b[0m\u001b[0mindex\u001b[0m\u001b[0;34m(\u001b[0m\u001b[0mw\u001b[0m\u001b[0;34m)\u001b[0m \u001b[0;34m+\u001b[0m \u001b[0;36m1\u001b[0m \u001b[0;32mfor\u001b[0m \u001b[0mw\u001b[0m \u001b[0;32min\u001b[0m \u001b[0mweekdays\u001b[0m\u001b[0;34m[\u001b[0m\u001b[0;36m1\u001b[0m\u001b[0;34m:\u001b[0m\u001b[0midx_week\u001b[0m\u001b[0;34m]\u001b[0m\u001b[0;34m]\u001b[0m\u001b[0;34m\u001b[0m\u001b[0m\n\u001b[0m\u001b[1;32m      5\u001b[0m line_chart_weekday = draw_line(\n\u001b[1;32m      6\u001b[0m     weekdays_int, close[1:idx_week], '收盘价星期均值（¥）', '星期均值')\n",
      "\u001b[0;31mValueError\u001b[0m: '1' is not in list"
     ]
    }
   ],
   "source": []
  },
  {
   "cell_type": "code",
   "execution_count": null,
   "metadata": {
    "collapsed": true
   },
   "outputs": [],
   "source": []
  },
  {
   "cell_type": "code",
   "execution_count": null,
   "metadata": {
    "collapsed": true
   },
   "outputs": [],
   "source": []
  },
  {
   "cell_type": "code",
   "execution_count": null,
   "metadata": {
    "collapsed": true
   },
   "outputs": [],
   "source": []
  },
  {
   "cell_type": "code",
   "execution_count": null,
   "metadata": {
    "collapsed": true
   },
   "outputs": [],
   "source": []
  },
  {
   "cell_type": "code",
   "execution_count": null,
   "metadata": {
    "collapsed": true
   },
   "outputs": [],
   "source": []
  },
  {
   "cell_type": "code",
   "execution_count": null,
   "metadata": {
    "collapsed": true
   },
   "outputs": [],
   "source": []
  },
  {
   "cell_type": "code",
   "execution_count": null,
   "metadata": {
    "collapsed": true
   },
   "outputs": [],
   "source": []
  },
  {
   "cell_type": "code",
   "execution_count": null,
   "metadata": {
    "collapsed": true
   },
   "outputs": [],
   "source": []
  },
  {
   "cell_type": "code",
   "execution_count": 11,
   "metadata": {},
   "outputs": [
    {
     "ename": "ModuleNotFoundError",
     "evalue": "No module named 'cairosvg'",
     "output_type": "error",
     "traceback": [
      "\u001b[0;31m-----------------------------------------------------------------------\u001b[0m",
      "\u001b[0;31mModuleNotFoundError\u001b[0m                   Traceback (most recent call last)",
      "\u001b[0;32m/var/sw/anaconda3/lib/python3.6/site-packages/IPython/core/formatters.py\u001b[0m in \u001b[0;36m__call__\u001b[0;34m(self, obj)\u001b[0m\n\u001b[1;32m    334\u001b[0m             \u001b[0mmethod\u001b[0m \u001b[0;34m=\u001b[0m \u001b[0mget_real_method\u001b[0m\u001b[0;34m(\u001b[0m\u001b[0mobj\u001b[0m\u001b[0;34m,\u001b[0m \u001b[0mself\u001b[0m\u001b[0;34m.\u001b[0m\u001b[0mprint_method\u001b[0m\u001b[0;34m)\u001b[0m\u001b[0;34m\u001b[0m\u001b[0m\n\u001b[1;32m    335\u001b[0m             \u001b[0;32mif\u001b[0m \u001b[0mmethod\u001b[0m \u001b[0;32mis\u001b[0m \u001b[0;32mnot\u001b[0m \u001b[0;32mNone\u001b[0m\u001b[0;34m:\u001b[0m\u001b[0;34m\u001b[0m\u001b[0m\n\u001b[0;32m--> 336\u001b[0;31m                 \u001b[0;32mreturn\u001b[0m \u001b[0mmethod\u001b[0m\u001b[0;34m(\u001b[0m\u001b[0;34m)\u001b[0m\u001b[0;34m\u001b[0m\u001b[0m\n\u001b[0m\u001b[1;32m    337\u001b[0m             \u001b[0;32mreturn\u001b[0m \u001b[0;32mNone\u001b[0m\u001b[0;34m\u001b[0m\u001b[0m\n\u001b[1;32m    338\u001b[0m         \u001b[0;32melse\u001b[0m\u001b[0;34m:\u001b[0m\u001b[0;34m\u001b[0m\u001b[0m\n",
      "\u001b[0;32m/var/sw/anaconda3/lib/python3.6/site-packages/pygal/graph/base.py\u001b[0m in \u001b[0;36m_repr_png_\u001b[0;34m(self)\u001b[0m\n\u001b[1;32m    232\u001b[0m     \u001b[0;32mdef\u001b[0m \u001b[0m_repr_png_\u001b[0m\u001b[0;34m(\u001b[0m\u001b[0mself\u001b[0m\u001b[0;34m)\u001b[0m\u001b[0;34m:\u001b[0m\u001b[0;34m\u001b[0m\u001b[0m\n\u001b[1;32m    233\u001b[0m         \u001b[0;34m\"\"\"Display png in IPython notebook\"\"\"\u001b[0m\u001b[0;34m\u001b[0m\u001b[0m\n\u001b[0;32m--> 234\u001b[0;31m         \u001b[0;32mreturn\u001b[0m \u001b[0mself\u001b[0m\u001b[0;34m.\u001b[0m\u001b[0mrender_to_png\u001b[0m\u001b[0;34m(\u001b[0m\u001b[0;34m)\u001b[0m\u001b[0;34m\u001b[0m\u001b[0m\n\u001b[0m",
      "\u001b[0;32m/var/sw/anaconda3/lib/python3.6/site-packages/pygal/graph/public.py\u001b[0m in \u001b[0;36mrender_to_png\u001b[0;34m(self, filename, dpi, **kwargs)\u001b[0m\n\u001b[1;32m    116\u001b[0m     \u001b[0;32mdef\u001b[0m \u001b[0mrender_to_png\u001b[0m\u001b[0;34m(\u001b[0m\u001b[0mself\u001b[0m\u001b[0;34m,\u001b[0m \u001b[0mfilename\u001b[0m\u001b[0;34m=\u001b[0m\u001b[0;32mNone\u001b[0m\u001b[0;34m,\u001b[0m \u001b[0mdpi\u001b[0m\u001b[0;34m=\u001b[0m\u001b[0;36m72\u001b[0m\u001b[0;34m,\u001b[0m \u001b[0;34m**\u001b[0m\u001b[0mkwargs\u001b[0m\u001b[0;34m)\u001b[0m\u001b[0;34m:\u001b[0m\u001b[0;34m\u001b[0m\u001b[0m\n\u001b[1;32m    117\u001b[0m         \u001b[0;34m\"\"\"Render the graph, convert it to png and write it to filename\"\"\"\u001b[0m\u001b[0;34m\u001b[0m\u001b[0m\n\u001b[0;32m--> 118\u001b[0;31m         \u001b[0;32mimport\u001b[0m \u001b[0mcairosvg\u001b[0m\u001b[0;34m\u001b[0m\u001b[0m\n\u001b[0m\u001b[1;32m    119\u001b[0m         return cairosvg.svg2png(\n\u001b[1;32m    120\u001b[0m             bytestring=self.render(**kwargs), write_to=filename, dpi=dpi)\n",
      "\u001b[0;31mModuleNotFoundError\u001b[0m: No module named 'cairosvg'"
     ]
    },
    {
     "data": {
      "image/svg+xml": [
       "<svg xmlns:xlink=\"http://www.w3.org/1999/xlink\" xmlns=\"http://www.w3.org/2000/svg\" id=\"chart-0b04de07-4744-4b1a-ba29-0b302c5cee6a\" class=\"pygal-chart\" viewBox=\"0 0 800 600\"><!--Generated with pygal 2.4.0 (lxml) ©Kozea 2012-2016 on 2018-08-18--><!--http://pygal.org--><!--http://github.com/Kozea/pygal--><defs><style type=\"text/css\">#chart-0b04de07-4744-4b1a-ba29-0b302c5cee6a{-webkit-user-select:none;-webkit-font-smoothing:antialiased;font-family:Consolas,\"Liberation Mono\",Menlo,Courier,monospace}#chart-0b04de07-4744-4b1a-ba29-0b302c5cee6a .title{font-family:Consolas,\"Liberation Mono\",Menlo,Courier,monospace;font-size:16px}#chart-0b04de07-4744-4b1a-ba29-0b302c5cee6a .legends .legend text{font-family:Consolas,\"Liberation Mono\",Menlo,Courier,monospace;font-size:14px}#chart-0b04de07-4744-4b1a-ba29-0b302c5cee6a .axis text{font-family:Consolas,\"Liberation Mono\",Menlo,Courier,monospace;font-size:10px}#chart-0b04de07-4744-4b1a-ba29-0b302c5cee6a .axis text.major{font-family:Consolas,\"Liberation Mono\",Menlo,Courier,monospace;font-size:10px}#chart-0b04de07-4744-4b1a-ba29-0b302c5cee6a .text-overlay text.value{font-family:Consolas,\"Liberation Mono\",Menlo,Courier,monospace;font-size:16px}#chart-0b04de07-4744-4b1a-ba29-0b302c5cee6a .text-overlay text.label{font-family:Consolas,\"Liberation Mono\",Menlo,Courier,monospace;font-size:10px}#chart-0b04de07-4744-4b1a-ba29-0b302c5cee6a .tooltip{font-family:Consolas,\"Liberation Mono\",Menlo,Courier,monospace;font-size:14px}#chart-0b04de07-4744-4b1a-ba29-0b302c5cee6a text.no_data{font-family:Consolas,\"Liberation Mono\",Menlo,Courier,monospace;font-size:64px}\n",
       "#chart-0b04de07-4744-4b1a-ba29-0b302c5cee6a{background-color:rgba(249,249,249,1)}#chart-0b04de07-4744-4b1a-ba29-0b302c5cee6a path,#chart-0b04de07-4744-4b1a-ba29-0b302c5cee6a line,#chart-0b04de07-4744-4b1a-ba29-0b302c5cee6a rect,#chart-0b04de07-4744-4b1a-ba29-0b302c5cee6a circle{-webkit-transition:150ms;-moz-transition:150ms;transition:150ms}#chart-0b04de07-4744-4b1a-ba29-0b302c5cee6a .graph &gt; .background{fill:rgba(249,249,249,1)}#chart-0b04de07-4744-4b1a-ba29-0b302c5cee6a .plot &gt; .background{fill:rgba(255,255,255,1)}#chart-0b04de07-4744-4b1a-ba29-0b302c5cee6a .graph{fill:rgba(0,0,0,.87)}#chart-0b04de07-4744-4b1a-ba29-0b302c5cee6a text.no_data{fill:rgba(0,0,0,1)}#chart-0b04de07-4744-4b1a-ba29-0b302c5cee6a .title{fill:rgba(0,0,0,1)}#chart-0b04de07-4744-4b1a-ba29-0b302c5cee6a .legends .legend text{fill:rgba(0,0,0,.87)}#chart-0b04de07-4744-4b1a-ba29-0b302c5cee6a .legends .legend:hover text{fill:rgba(0,0,0,1)}#chart-0b04de07-4744-4b1a-ba29-0b302c5cee6a .axis .line{stroke:rgba(0,0,0,1)}#chart-0b04de07-4744-4b1a-ba29-0b302c5cee6a .axis .guide.line{stroke:rgba(0,0,0,.54)}#chart-0b04de07-4744-4b1a-ba29-0b302c5cee6a .axis .major.line{stroke:rgba(0,0,0,.87)}#chart-0b04de07-4744-4b1a-ba29-0b302c5cee6a .axis text.major{fill:rgba(0,0,0,1)}#chart-0b04de07-4744-4b1a-ba29-0b302c5cee6a .axis.y .guides:hover .guide.line,#chart-0b04de07-4744-4b1a-ba29-0b302c5cee6a .line-graph .axis.x .guides:hover .guide.line,#chart-0b04de07-4744-4b1a-ba29-0b302c5cee6a .stackedline-graph .axis.x .guides:hover .guide.line,#chart-0b04de07-4744-4b1a-ba29-0b302c5cee6a .xy-graph .axis.x .guides:hover .guide.line{stroke:rgba(0,0,0,1)}#chart-0b04de07-4744-4b1a-ba29-0b302c5cee6a .axis .guides:hover text{fill:rgba(0,0,0,1)}#chart-0b04de07-4744-4b1a-ba29-0b302c5cee6a .reactive{fill-opacity:.7;stroke-opacity:.8}#chart-0b04de07-4744-4b1a-ba29-0b302c5cee6a .ci{stroke:rgba(0,0,0,.87)}#chart-0b04de07-4744-4b1a-ba29-0b302c5cee6a .reactive.active,#chart-0b04de07-4744-4b1a-ba29-0b302c5cee6a .active .reactive{fill-opacity:.8;stroke-opacity:.9;stroke-width:4}#chart-0b04de07-4744-4b1a-ba29-0b302c5cee6a .ci .reactive.active{stroke-width:1.5}#chart-0b04de07-4744-4b1a-ba29-0b302c5cee6a .series text{fill:rgba(0,0,0,1)}#chart-0b04de07-4744-4b1a-ba29-0b302c5cee6a .tooltip rect{fill:rgba(255,255,255,1);stroke:rgba(0,0,0,1);-webkit-transition:opacity 150ms;-moz-transition:opacity 150ms;transition:opacity 150ms}#chart-0b04de07-4744-4b1a-ba29-0b302c5cee6a .tooltip .label{fill:rgba(0,0,0,.87)}#chart-0b04de07-4744-4b1a-ba29-0b302c5cee6a .tooltip .label{fill:rgba(0,0,0,.87)}#chart-0b04de07-4744-4b1a-ba29-0b302c5cee6a .tooltip .legend{font-size:.8em;fill:rgba(0,0,0,.54)}#chart-0b04de07-4744-4b1a-ba29-0b302c5cee6a .tooltip .x_label{font-size:.6em;fill:rgba(0,0,0,1)}#chart-0b04de07-4744-4b1a-ba29-0b302c5cee6a .tooltip .xlink{font-size:.5em;text-decoration:underline}#chart-0b04de07-4744-4b1a-ba29-0b302c5cee6a .tooltip .value{font-size:1.5em}#chart-0b04de07-4744-4b1a-ba29-0b302c5cee6a .bound{font-size:.5em}#chart-0b04de07-4744-4b1a-ba29-0b302c5cee6a .max-value{font-size:.75em;fill:rgba(0,0,0,.54)}#chart-0b04de07-4744-4b1a-ba29-0b302c5cee6a .map-element{fill:rgba(255,255,255,1);stroke:rgba(0,0,0,.54) !important}#chart-0b04de07-4744-4b1a-ba29-0b302c5cee6a .map-element .reactive{fill-opacity:inherit;stroke-opacity:inherit}#chart-0b04de07-4744-4b1a-ba29-0b302c5cee6a .color-0,#chart-0b04de07-4744-4b1a-ba29-0b302c5cee6a .color-0 a:visited{stroke:#F44336;fill:#F44336}#chart-0b04de07-4744-4b1a-ba29-0b302c5cee6a .text-overlay .color-0 text{fill:black}\n",
       "#chart-0b04de07-4744-4b1a-ba29-0b302c5cee6a text.no_data{text-anchor:middle}#chart-0b04de07-4744-4b1a-ba29-0b302c5cee6a .guide.line{fill:none}#chart-0b04de07-4744-4b1a-ba29-0b302c5cee6a .centered{text-anchor:middle}#chart-0b04de07-4744-4b1a-ba29-0b302c5cee6a .title{text-anchor:middle}#chart-0b04de07-4744-4b1a-ba29-0b302c5cee6a .legends .legend text{fill-opacity:1}#chart-0b04de07-4744-4b1a-ba29-0b302c5cee6a .axis.x text{text-anchor:middle}#chart-0b04de07-4744-4b1a-ba29-0b302c5cee6a .axis.x:not(.web) text[transform]{text-anchor:start}#chart-0b04de07-4744-4b1a-ba29-0b302c5cee6a .axis.x:not(.web) text[transform].backwards{text-anchor:end}#chart-0b04de07-4744-4b1a-ba29-0b302c5cee6a .axis.y text{text-anchor:end}#chart-0b04de07-4744-4b1a-ba29-0b302c5cee6a .axis.y text[transform].backwards{text-anchor:start}#chart-0b04de07-4744-4b1a-ba29-0b302c5cee6a .axis.y2 text{text-anchor:start}#chart-0b04de07-4744-4b1a-ba29-0b302c5cee6a .axis.y2 text[transform].backwards{text-anchor:end}#chart-0b04de07-4744-4b1a-ba29-0b302c5cee6a .axis .guide.line{stroke-dasharray:4,4}#chart-0b04de07-4744-4b1a-ba29-0b302c5cee6a .axis .major.guide.line{stroke-dasharray:6,6}#chart-0b04de07-4744-4b1a-ba29-0b302c5cee6a .horizontal .axis.y .guide.line,#chart-0b04de07-4744-4b1a-ba29-0b302c5cee6a .horizontal .axis.y2 .guide.line,#chart-0b04de07-4744-4b1a-ba29-0b302c5cee6a .vertical .axis.x .guide.line{opacity:0}#chart-0b04de07-4744-4b1a-ba29-0b302c5cee6a .horizontal .axis.always_show .guide.line,#chart-0b04de07-4744-4b1a-ba29-0b302c5cee6a .vertical .axis.always_show .guide.line{opacity:1 !important}#chart-0b04de07-4744-4b1a-ba29-0b302c5cee6a .axis.y .guides:hover .guide.line,#chart-0b04de07-4744-4b1a-ba29-0b302c5cee6a .axis.y2 .guides:hover .guide.line,#chart-0b04de07-4744-4b1a-ba29-0b302c5cee6a .axis.x .guides:hover .guide.line{opacity:1}#chart-0b04de07-4744-4b1a-ba29-0b302c5cee6a .axis .guides:hover text{opacity:1}#chart-0b04de07-4744-4b1a-ba29-0b302c5cee6a .nofill{fill:none}#chart-0b04de07-4744-4b1a-ba29-0b302c5cee6a .subtle-fill{fill-opacity:.2}#chart-0b04de07-4744-4b1a-ba29-0b302c5cee6a .dot{stroke-width:1px;fill-opacity:1}#chart-0b04de07-4744-4b1a-ba29-0b302c5cee6a .dot.active{stroke-width:5px}#chart-0b04de07-4744-4b1a-ba29-0b302c5cee6a .dot.negative{fill:transparent}#chart-0b04de07-4744-4b1a-ba29-0b302c5cee6a text,#chart-0b04de07-4744-4b1a-ba29-0b302c5cee6a tspan{stroke:none !important}#chart-0b04de07-4744-4b1a-ba29-0b302c5cee6a .series text.active{opacity:1}#chart-0b04de07-4744-4b1a-ba29-0b302c5cee6a .tooltip rect{fill-opacity:.95;stroke-width:.5}#chart-0b04de07-4744-4b1a-ba29-0b302c5cee6a .tooltip text{fill-opacity:1}#chart-0b04de07-4744-4b1a-ba29-0b302c5cee6a .showable{visibility:hidden}#chart-0b04de07-4744-4b1a-ba29-0b302c5cee6a .showable.shown{visibility:visible}#chart-0b04de07-4744-4b1a-ba29-0b302c5cee6a .gauge-background{fill:rgba(229,229,229,1);stroke:none}#chart-0b04de07-4744-4b1a-ba29-0b302c5cee6a .bg-lines{stroke:rgba(249,249,249,1);stroke-width:2px}</style><script type=\"text/javascript\">window.pygal = window.pygal || {};window.pygal.config = window.pygal.config || {};window.pygal.config['0b04de07-4744-4b1a-ba29-0b302c5cee6a'] = {\"allow_interruptions\": false, \"box_mode\": \"extremes\", \"classes\": [\"pygal-chart\"], \"css\": [\"file://style.css\", \"file://graph.css\"], \"defs\": [], \"disable_xml_declaration\": true, \"dots_size\": 2.5, \"dynamic_print_values\": false, \"explicit_size\": false, \"fill\": false, \"force_uri_protocol\": \"https\", \"formatter\": null, \"half_pie\": false, \"height\": 600, \"include_x_axis\": false, \"inner_radius\": 0, \"interpolate\": null, \"interpolation_parameters\": {}, \"interpolation_precision\": 250, \"inverse_y_axis\": false, \"js\": [\"//kozea.github.io/pygal.js/2.0.x/pygal-tooltips.min.js\"], \"legend_at_bottom\": false, \"legend_at_bottom_columns\": null, \"legend_box_size\": 12, \"logarithmic\": false, \"margin\": 20, \"margin_bottom\": null, \"margin_left\": null, \"margin_right\": null, \"margin_top\": null, \"max_scale\": 16, \"min_scale\": 4, \"missing_value_fill_truncation\": \"x\", \"no_data_text\": \"No data\", \"no_prefix\": false, \"order_min\": null, \"pretty_print\": false, \"print_labels\": false, \"print_values\": false, \"print_values_position\": \"center\", \"print_zeroes\": true, \"range\": null, \"rounded_bars\": null, \"secondary_range\": null, \"show_dots\": true, \"show_legend\": true, \"show_minor_x_labels\": true, \"show_minor_y_labels\": true, \"show_only_major_dots\": false, \"show_x_guides\": false, \"show_x_labels\": true, \"show_y_guides\": true, \"show_y_labels\": true, \"spacing\": 10, \"stack_from_top\": false, \"strict\": false, \"stroke\": true, \"stroke_style\": null, \"style\": {\"background\": \"rgba(249, 249, 249, 1)\", \"ci_colors\": [], \"colors\": [\"#F44336\", \"#3F51B5\", \"#009688\", \"#FFC107\", \"#FF5722\", \"#9C27B0\", \"#03A9F4\", \"#8BC34A\", \"#FF9800\", \"#E91E63\", \"#2196F3\", \"#4CAF50\", \"#FFEB3B\", \"#673AB7\", \"#00BCD4\", \"#CDDC39\", \"#9E9E9E\", \"#607D8B\"], \"font_family\": \"Consolas, \\\"Liberation Mono\\\", Menlo, Courier, monospace\", \"foreground\": \"rgba(0, 0, 0, .87)\", \"foreground_strong\": \"rgba(0, 0, 0, 1)\", \"foreground_subtle\": \"rgba(0, 0, 0, .54)\", \"guide_stroke_dasharray\": \"4,4\", \"label_font_family\": \"Consolas, \\\"Liberation Mono\\\", Menlo, Courier, monospace\", \"label_font_size\": 10, \"legend_font_family\": \"Consolas, \\\"Liberation Mono\\\", Menlo, Courier, monospace\", \"legend_font_size\": 14, \"major_guide_stroke_dasharray\": \"6,6\", \"major_label_font_family\": \"Consolas, \\\"Liberation Mono\\\", Menlo, Courier, monospace\", \"major_label_font_size\": 10, \"no_data_font_family\": \"Consolas, \\\"Liberation Mono\\\", Menlo, Courier, monospace\", \"no_data_font_size\": 64, \"opacity\": \".7\", \"opacity_hover\": \".8\", \"plot_background\": \"rgba(255, 255, 255, 1)\", \"stroke_opacity\": \".8\", \"stroke_opacity_hover\": \".9\", \"title_font_family\": \"Consolas, \\\"Liberation Mono\\\", Menlo, Courier, monospace\", \"title_font_size\": 16, \"tooltip_font_family\": \"Consolas, \\\"Liberation Mono\\\", Menlo, Courier, monospace\", \"tooltip_font_size\": 14, \"transition\": \"150ms\", \"value_background\": \"rgba(229, 229, 229, 1)\", \"value_colors\": [], \"value_font_family\": \"Consolas, \\\"Liberation Mono\\\", Menlo, Courier, monospace\", \"value_font_size\": 16, \"value_label_font_family\": \"Consolas, \\\"Liberation Mono\\\", Menlo, Courier, monospace\", \"value_label_font_size\": 10}, \"title\": \"\\u6536\\u76d8\\u4ef7\\u5468\\u65e5\\u5747\\u503c\\uff08\\u00a5\\uff09\", \"tooltip_border_radius\": 0, \"tooltip_fancy_mode\": true, \"truncate_label\": null, \"truncate_legend\": null, \"width\": 800, \"x_label_rotation\": 0, \"x_labels\": [1, 2, 3, 4, 5, 6, 7], \"x_labels_major\": null, \"x_labels_major_count\": null, \"x_labels_major_every\": null, \"x_title\": null, \"xrange\": null, \"y_label_rotation\": 0, \"y_labels\": null, \"y_labels_major\": null, \"y_labels_major_count\": null, \"y_labels_major_every\": null, \"y_title\": null, \"zero\": 0, \"legends\": [\"\\u5468\\u65e5\\u5747\\u503c\"]}</script><script type=\"text/javascript\" xlink:href=\"https://kozea.github.io/pygal.js/2.0.x/pygal-tooltips.min.js\"/></defs><title>收盘价周日均值（¥）</title><g class=\"graph line-graph vertical\"><rect class=\"background\" height=\"600\" width=\"800\" x=\"0\" y=\"0\"/><g class=\"plot\" transform=\"translate(109, 46)\"><rect class=\"background\" height=\"514\" width=\"670.4\" x=\"0\" y=\"0\"/><g class=\"axis y always_show\"><path class=\"line\" d=\"M0.000000 514.000000 h670.400000\"/><g class=\"guides\"><path class=\"guide line\" d=\"M0.000000 497.182835 h670.400000\"/><text class=\"\" x=\"-5\" y=\"500.6828346162344\">5800</text><title>5800</title></g><g class=\"guides\"><path class=\"guide line\" d=\"M0.000000 458.971929 h670.400000\"/><text class=\"\" x=\"-5\" y=\"462.4719291091062\">5900</text><title>5900</title></g><g class=\"guides\"><path class=\"major guide line\" d=\"M0.000000 420.761024 h670.400000\"/><text class=\"major\" x=\"-5\" y=\"424.2610236019781\">6000</text><title>6000</title></g><g class=\"guides\"><path class=\"guide line\" d=\"M0.000000 382.550118 h670.400000\"/><text class=\"\" x=\"-5\" y=\"386.05011809484984\">6100</text><title>6100</title></g><g class=\"guides\"><path class=\"guide line\" d=\"M0.000000 344.339213 h670.400000\"/><text class=\"\" x=\"-5\" y=\"347.8392125877217\">6200</text><title>6200</title></g><g class=\"guides\"><path class=\"guide line\" d=\"M0.000000 306.128307 h670.400000\"/><text class=\"\" x=\"-5\" y=\"309.6283070805935\">6300</text><title>6300</title></g><g class=\"guides\"><path class=\"guide line\" d=\"M0.000000 267.917402 h670.400000\"/><text class=\"\" x=\"-5\" y=\"271.4174015734653\">6400</text><title>6400</title></g><g class=\"guides\"><path class=\"major guide line\" d=\"M0.000000 229.706496 h670.400000\"/><text class=\"major\" x=\"-5\" y=\"233.20649606633714\">6500</text><title>6500</title></g><g class=\"guides\"><path class=\"guide line\" d=\"M0.000000 191.495591 h670.400000\"/><text class=\"\" x=\"-5\" y=\"194.99559055920895\">6600</text><title>6600</title></g><g class=\"guides\"><path class=\"guide line\" d=\"M0.000000 153.284685 h670.400000\"/><text class=\"\" x=\"-5\" y=\"156.78468505208076\">6700</text><title>6700</title></g><g class=\"guides\"><path class=\"guide line\" d=\"M0.000000 115.073780 h670.400000\"/><text class=\"\" x=\"-5\" y=\"118.57377954495257\">6800</text><title>6800</title></g><g class=\"guides\"><path class=\"guide line\" d=\"M0.000000 76.862874 h670.400000\"/><text class=\"\" x=\"-5\" y=\"80.36287403782444\">6900</text><title>6900</title></g><g class=\"guides\"><path class=\"major guide line\" d=\"M0.000000 38.651969 h670.400000\"/><text class=\"major\" x=\"-5\" y=\"42.15196853069625\">7000</text><title>7000</title></g></g><g class=\"axis x\"><g class=\"guides\"><path class=\"line\" d=\"M12.892308 0.000000 v514.000000\"/><text class=\"\" x=\"12.892307692307691\" y=\"529.0\">1</text></g><g class=\"guides\"><path class=\"guide line\" d=\"M120.328205 0.000000 v514.000000\"/><text class=\"\" x=\"120.32820512820511\" y=\"529.0\">2</text></g><g class=\"guides\"><path class=\"guide line\" d=\"M227.764103 0.000000 v514.000000\"/><text class=\"\" x=\"227.76410256410256\" y=\"529.0\">3</text></g><g class=\"guides\"><path class=\"guide line\" d=\"M335.200000 0.000000 v514.000000\"/><text class=\"\" x=\"335.2\" y=\"529.0\">4</text></g><g class=\"guides\"><path class=\"guide line\" d=\"M442.635897 0.000000 v514.000000\"/><text class=\"\" x=\"442.6358974358974\" y=\"529.0\">5</text></g><g class=\"guides\"><path class=\"guide line\" d=\"M550.071795 0.000000 v514.000000\"/><text class=\"\" x=\"550.0717948717949\" y=\"529.0\">6</text></g><g class=\"guides\"><path class=\"guide line\" d=\"M657.507692 0.000000 v514.000000\"/><text class=\"\" x=\"657.5076923076923\" y=\"529.0\">7</text></g></g><g class=\"series serie-0 color-0\"><path class=\"line reactive nofill\" d=\"M12.892308 104.975183 L120.328205 504.115385 227.764103 367.920800 335.200000 326.925957 442.635897 105.357292 550.071795 38.761143 657.507692 9.884615\"/></g></g><g class=\"titles\"><text class=\"title plot_title\" x=\"400.0\" y=\"26\">收盘价周日均值（¥）</text></g><g class=\"plot overlay\" transform=\"translate(109, 46)\"><g class=\"series serie-0 color-0\"><g class=\"dots\"><circle class=\"dot reactive tooltip-trigger\" cx=\"12.892307692307691\" cy=\"104.97518308949725\" r=\"2.5\"/><desc class=\"value\">6826.428571</desc><desc class=\"x \">12.892307692307691</desc><desc class=\"y \">104.97518308949725</desc><desc class=\"x_label\">1</desc></g><g class=\"dots\"><circle class=\"dot reactive tooltip-trigger\" cx=\"120.32820512820511\" cy=\"504.1153846153847\" r=\"2.5\"/><desc class=\"value\">5781.857143</desc><desc class=\"x top\">120.32820512820511</desc><desc class=\"y top\">504.1153846153847</desc><desc class=\"x_label\">2</desc></g><g class=\"dots\"><circle class=\"dot reactive tooltip-trigger\" cx=\"227.76410256410256\" cy=\"367.92079998640634\" r=\"2.5\"/><desc class=\"value\">6138.285714</desc><desc class=\"x top\">227.76410256410256</desc><desc class=\"y top\">367.92079998640634</desc><desc class=\"x_label\">3</desc></g><g class=\"dots\"><circle class=\"dot reactive tooltip-trigger\" cx=\"335.2\" cy=\"326.92595707804475\" r=\"2.5\"/><desc class=\"value\">6245.571429</desc><desc class=\"x top\">335.2</desc><desc class=\"y top\">326.92595707804475</desc><desc class=\"x_label\">4</desc></g><g class=\"dots\"><circle class=\"dot reactive tooltip-trigger\" cx=\"442.6358974358974\" cy=\"105.35729214456853\" r=\"2.5\"/><desc class=\"value\">6825.428571</desc><desc class=\"x left\">442.6358974358974</desc><desc class=\"y left\">105.35729214456853</desc><desc class=\"x_label\">5</desc></g><g class=\"dots\"><circle class=\"dot reactive tooltip-trigger\" cx=\"550.0717948717949\" cy=\"38.76114254643096\" r=\"2.5\"/><desc class=\"value\">6999.714286</desc><desc class=\"x left\">550.0717948717949</desc><desc class=\"y left\">38.76114254643096</desc><desc class=\"x_label\">6</desc></g><g class=\"dots\"><circle class=\"dot reactive tooltip-trigger\" cx=\"657.5076923076923\" cy=\"9.884615384615245\" r=\"2.5\"/><desc class=\"value\">7075.285714</desc><desc class=\"x left\">657.5076923076923</desc><desc class=\"y left\">9.884615384615245</desc><desc class=\"x_label\">7</desc></g></g></g><g class=\"plot text-overlay\" transform=\"translate(109, 46)\"><g class=\"series serie-0 color-0\"/></g><g class=\"plot tooltip-overlay\" transform=\"translate(109, 46)\"><g class=\"tooltip\" style=\"opacity: 0\" transform=\"translate(0 0)\"><rect class=\"tooltip-box\" height=\"0\" rx=\"0\" ry=\"0\" width=\"0\"/><g class=\"text\"/></g></g><g class=\"legends\" transform=\"translate(10, 56)\"><g class=\"legend reactive activate-serie\" id=\"activate-serie-0\"><rect class=\"color-0 reactive\" height=\"12\" width=\"12\" x=\"0.0\" y=\"1.0\"/><text x=\"17.0\" y=\"11.2\">周日均值</text></g></g><g class=\"legends\" transform=\"translate(790, 56)\"/></g></svg>"
      ],
      "text/plain": [
       "<pygal.graph.line.Line at 0x7f368402eef0>"
      ]
     },
     "execution_count": 11,
     "metadata": {},
     "output_type": "execute_result"
    }
   ],
   "source": []
  },
  {
   "cell_type": "code",
   "execution_count": null,
   "metadata": {
    "collapsed": true
   },
   "outputs": [],
   "source": []
  },
  {
   "cell_type": "code",
   "execution_count": null,
   "metadata": {
    "collapsed": true
   },
   "outputs": [],
   "source": []
  },
  {
   "cell_type": "code",
   "execution_count": null,
   "metadata": {
    "collapsed": true
   },
   "outputs": [],
   "source": []
  },
  {
   "cell_type": "code",
   "execution_count": null,
   "metadata": {
    "collapsed": true
   },
   "outputs": [],
   "source": []
  },
  {
   "cell_type": "code",
   "execution_count": null,
   "metadata": {
    "collapsed": true
   },
   "outputs": [],
   "source": []
  },
  {
   "cell_type": "code",
   "execution_count": null,
   "metadata": {
    "collapsed": true
   },
   "outputs": [],
   "source": []
  },
  {
   "cell_type": "code",
   "execution_count": null,
   "metadata": {
    "collapsed": true
   },
   "outputs": [],
   "source": []
  }
 ],
 "metadata": {
  "kernelspec": {
   "display_name": "Python 3",
   "language": "python",
   "name": "python3"
  },
  "language_info": {
   "codemirror_mode": {
    "name": "ipython",
    "version": 3
   },
   "file_extension": ".py",
   "mimetype": "text/x-python",
   "name": "python",
   "nbconvert_exporter": "python",
   "pygments_lexer": "ipython3",
   "version": "3.6.3"
  }
 },
 "nbformat": 4,
 "nbformat_minor": 2
}
